{
  "nbformat": 4,
  "nbformat_minor": 0,
  "metadata": {
    "colab": {
      "name": "flightdelays.ipynb",
      "provenance": [],
      "authorship_tag": "ABX9TyMOTBJpKAuUO6d7pkBaXMnN",
      "include_colab_link": true
    },
    "kernelspec": {
      "name": "python3",
      "display_name": "Python 3"
    },
    "language_info": {
      "name": "python"
    }
  },
  "cells": [
    {
      "cell_type": "markdown",
      "metadata": {
        "id": "view-in-github",
        "colab_type": "text"
      },
      "source": [
        "<a href=\"https://colab.research.google.com/github/Salanakya/CV-projekt/blob/main/flightdelays.ipynb\" target=\"_parent\"><img src=\"https://colab.research.google.com/assets/colab-badge.svg\" alt=\"Open In Colab\"/></a>"
      ]
    },
    {
      "cell_type": "markdown",
      "source": [
        "#2015 Flight Delays and Cancellations\n",
        "Which airline should you fly on to avoid significant delays?\n",
        "https://www.kaggle.com/datasets/usdot/flight-delays"
      ],
      "metadata": {
        "id": "hpqis06EMwhp"
      }
    },
    {
      "cell_type": "markdown",
      "source": [
        "##Kaggle - dataset import"
      ],
      "metadata": {
        "id": "Z6bV-qGTMwIM"
      }
    },
    {
      "cell_type": "code",
      "execution_count": 1,
      "metadata": {
        "colab": {
          "base_uri": "https://localhost:8080/"
        },
        "id": "XovxQRyH67Gf",
        "outputId": "ce88e134-9d60-46c8-da82-ec0a607f57c8"
      },
      "outputs": [
        {
          "output_type": "stream",
          "name": "stdout",
          "text": [
            "Looking in indexes: https://pypi.org/simple, https://us-python.pkg.dev/colab-wheels/public/simple/\n",
            "Requirement already satisfied: kaggle in /usr/local/lib/python3.7/dist-packages (1.5.12)\n",
            "Requirement already satisfied: six>=1.10 in /usr/local/lib/python3.7/dist-packages (from kaggle) (1.15.0)\n",
            "Requirement already satisfied: certifi in /usr/local/lib/python3.7/dist-packages (from kaggle) (2022.6.15)\n",
            "Requirement already satisfied: urllib3 in /usr/local/lib/python3.7/dist-packages (from kaggle) (1.24.3)\n",
            "Requirement already satisfied: python-dateutil in /usr/local/lib/python3.7/dist-packages (from kaggle) (2.8.2)\n",
            "Requirement already satisfied: requests in /usr/local/lib/python3.7/dist-packages (from kaggle) (2.23.0)\n",
            "Requirement already satisfied: python-slugify in /usr/local/lib/python3.7/dist-packages (from kaggle) (6.1.2)\n",
            "Requirement already satisfied: tqdm in /usr/local/lib/python3.7/dist-packages (from kaggle) (4.64.0)\n",
            "Requirement already satisfied: text-unidecode>=1.3 in /usr/local/lib/python3.7/dist-packages (from python-slugify->kaggle) (1.3)\n",
            "Requirement already satisfied: idna<3,>=2.5 in /usr/local/lib/python3.7/dist-packages (from requests->kaggle) (2.10)\n",
            "Requirement already satisfied: chardet<4,>=3.0.2 in /usr/local/lib/python3.7/dist-packages (from requests->kaggle) (3.0.4)\n",
            "Downloading flight-delays.zip to /content\n",
            " 97% 185M/191M [00:08<00:00, 20.8MB/s]\n",
            "100% 191M/191M [00:08<00:00, 24.6MB/s]\n"
          ]
        }
      ],
      "source": [
        "!pip install kaggle\n",
        "! mkdir ~/.kaggle\n",
        "! cp kaggle.json ~/.kaggle/\n",
        "! chmod 600 ~/.kaggle/kaggle.json\n",
        "!kaggle datasets download -d usdot/flight-delays\n"
      ]
    },
    {
      "cell_type": "code",
      "source": [
        "!unzip flight-delays.zip"
      ],
      "metadata": {
        "colab": {
          "base_uri": "https://localhost:8080/"
        },
        "id": "F3LhhQI78TKX",
        "outputId": "1adbfc76-615b-4ffd-cd96-a0ddc72a71c0"
      },
      "execution_count": 2,
      "outputs": [
        {
          "output_type": "stream",
          "name": "stdout",
          "text": [
            "Archive:  flight-delays.zip\n",
            "  inflating: airlines.csv            \n",
            "  inflating: airports.csv            \n",
            "  inflating: flights.csv             \n"
          ]
        }
      ]
    },
    {
      "cell_type": "markdown",
      "source": [
        "##Libraries"
      ],
      "metadata": {
        "id": "i3ZawJu6Nx6-"
      }
    },
    {
      "cell_type": "code",
      "source": [
        "import pandas as pd\n",
        "import numpy as np\n",
        "import matplotlib.pyplot as plt\n",
        "import seaborn as sns\n",
        "import datetime as dt\n",
        "from scipy import stats\n",
        "from scipy.stats import norm"
      ],
      "metadata": {
        "id": "PD3BRIi88TNO"
      },
      "execution_count": 49,
      "outputs": []
    },
    {
      "cell_type": "markdown",
      "source": [
        "##Data exploration"
      ],
      "metadata": {
        "id": "X9DsiYMJNmU5"
      }
    },
    {
      "cell_type": "code",
      "source": [
        "airlines = pd.read_csv('airlines.csv')\n",
        "airlines"
      ],
      "metadata": {
        "colab": {
          "base_uri": "https://localhost:8080/",
          "height": 489
        },
        "id": "MNDm_MlXDPbN",
        "outputId": "c592febc-8e3e-4787-bf23-4af24c8e1753"
      },
      "execution_count": 20,
      "outputs": [
        {
          "output_type": "execute_result",
          "data": {
            "text/plain": [
              "   IATA_CODE                       AIRLINE\n",
              "0         UA         United Air Lines Inc.\n",
              "1         AA        American Airlines Inc.\n",
              "2         US               US Airways Inc.\n",
              "3         F9        Frontier Airlines Inc.\n",
              "4         B6               JetBlue Airways\n",
              "5         OO         Skywest Airlines Inc.\n",
              "6         AS          Alaska Airlines Inc.\n",
              "7         NK              Spirit Air Lines\n",
              "8         WN        Southwest Airlines Co.\n",
              "9         DL          Delta Air Lines Inc.\n",
              "10        EV   Atlantic Southeast Airlines\n",
              "11        HA        Hawaiian Airlines Inc.\n",
              "12        MQ  American Eagle Airlines Inc.\n",
              "13        VX                Virgin America"
            ],
            "text/html": [
              "\n",
              "  <div id=\"df-288ce3cf-48b0-4be5-8d25-77de553f9305\">\n",
              "    <div class=\"colab-df-container\">\n",
              "      <div>\n",
              "<style scoped>\n",
              "    .dataframe tbody tr th:only-of-type {\n",
              "        vertical-align: middle;\n",
              "    }\n",
              "\n",
              "    .dataframe tbody tr th {\n",
              "        vertical-align: top;\n",
              "    }\n",
              "\n",
              "    .dataframe thead th {\n",
              "        text-align: right;\n",
              "    }\n",
              "</style>\n",
              "<table border=\"1\" class=\"dataframe\">\n",
              "  <thead>\n",
              "    <tr style=\"text-align: right;\">\n",
              "      <th></th>\n",
              "      <th>IATA_CODE</th>\n",
              "      <th>AIRLINE</th>\n",
              "    </tr>\n",
              "  </thead>\n",
              "  <tbody>\n",
              "    <tr>\n",
              "      <th>0</th>\n",
              "      <td>UA</td>\n",
              "      <td>United Air Lines Inc.</td>\n",
              "    </tr>\n",
              "    <tr>\n",
              "      <th>1</th>\n",
              "      <td>AA</td>\n",
              "      <td>American Airlines Inc.</td>\n",
              "    </tr>\n",
              "    <tr>\n",
              "      <th>2</th>\n",
              "      <td>US</td>\n",
              "      <td>US Airways Inc.</td>\n",
              "    </tr>\n",
              "    <tr>\n",
              "      <th>3</th>\n",
              "      <td>F9</td>\n",
              "      <td>Frontier Airlines Inc.</td>\n",
              "    </tr>\n",
              "    <tr>\n",
              "      <th>4</th>\n",
              "      <td>B6</td>\n",
              "      <td>JetBlue Airways</td>\n",
              "    </tr>\n",
              "    <tr>\n",
              "      <th>5</th>\n",
              "      <td>OO</td>\n",
              "      <td>Skywest Airlines Inc.</td>\n",
              "    </tr>\n",
              "    <tr>\n",
              "      <th>6</th>\n",
              "      <td>AS</td>\n",
              "      <td>Alaska Airlines Inc.</td>\n",
              "    </tr>\n",
              "    <tr>\n",
              "      <th>7</th>\n",
              "      <td>NK</td>\n",
              "      <td>Spirit Air Lines</td>\n",
              "    </tr>\n",
              "    <tr>\n",
              "      <th>8</th>\n",
              "      <td>WN</td>\n",
              "      <td>Southwest Airlines Co.</td>\n",
              "    </tr>\n",
              "    <tr>\n",
              "      <th>9</th>\n",
              "      <td>DL</td>\n",
              "      <td>Delta Air Lines Inc.</td>\n",
              "    </tr>\n",
              "    <tr>\n",
              "      <th>10</th>\n",
              "      <td>EV</td>\n",
              "      <td>Atlantic Southeast Airlines</td>\n",
              "    </tr>\n",
              "    <tr>\n",
              "      <th>11</th>\n",
              "      <td>HA</td>\n",
              "      <td>Hawaiian Airlines Inc.</td>\n",
              "    </tr>\n",
              "    <tr>\n",
              "      <th>12</th>\n",
              "      <td>MQ</td>\n",
              "      <td>American Eagle Airlines Inc.</td>\n",
              "    </tr>\n",
              "    <tr>\n",
              "      <th>13</th>\n",
              "      <td>VX</td>\n",
              "      <td>Virgin America</td>\n",
              "    </tr>\n",
              "  </tbody>\n",
              "</table>\n",
              "</div>\n",
              "      <button class=\"colab-df-convert\" onclick=\"convertToInteractive('df-288ce3cf-48b0-4be5-8d25-77de553f9305')\"\n",
              "              title=\"Convert this dataframe to an interactive table.\"\n",
              "              style=\"display:none;\">\n",
              "        \n",
              "  <svg xmlns=\"http://www.w3.org/2000/svg\" height=\"24px\"viewBox=\"0 0 24 24\"\n",
              "       width=\"24px\">\n",
              "    <path d=\"M0 0h24v24H0V0z\" fill=\"none\"/>\n",
              "    <path d=\"M18.56 5.44l.94 2.06.94-2.06 2.06-.94-2.06-.94-.94-2.06-.94 2.06-2.06.94zm-11 1L8.5 8.5l.94-2.06 2.06-.94-2.06-.94L8.5 2.5l-.94 2.06-2.06.94zm10 10l.94 2.06.94-2.06 2.06-.94-2.06-.94-.94-2.06-.94 2.06-2.06.94z\"/><path d=\"M17.41 7.96l-1.37-1.37c-.4-.4-.92-.59-1.43-.59-.52 0-1.04.2-1.43.59L10.3 9.45l-7.72 7.72c-.78.78-.78 2.05 0 2.83L4 21.41c.39.39.9.59 1.41.59.51 0 1.02-.2 1.41-.59l7.78-7.78 2.81-2.81c.8-.78.8-2.07 0-2.86zM5.41 20L4 18.59l7.72-7.72 1.47 1.35L5.41 20z\"/>\n",
              "  </svg>\n",
              "      </button>\n",
              "      \n",
              "  <style>\n",
              "    .colab-df-container {\n",
              "      display:flex;\n",
              "      flex-wrap:wrap;\n",
              "      gap: 12px;\n",
              "    }\n",
              "\n",
              "    .colab-df-convert {\n",
              "      background-color: #E8F0FE;\n",
              "      border: none;\n",
              "      border-radius: 50%;\n",
              "      cursor: pointer;\n",
              "      display: none;\n",
              "      fill: #1967D2;\n",
              "      height: 32px;\n",
              "      padding: 0 0 0 0;\n",
              "      width: 32px;\n",
              "    }\n",
              "\n",
              "    .colab-df-convert:hover {\n",
              "      background-color: #E2EBFA;\n",
              "      box-shadow: 0px 1px 2px rgba(60, 64, 67, 0.3), 0px 1px 3px 1px rgba(60, 64, 67, 0.15);\n",
              "      fill: #174EA6;\n",
              "    }\n",
              "\n",
              "    [theme=dark] .colab-df-convert {\n",
              "      background-color: #3B4455;\n",
              "      fill: #D2E3FC;\n",
              "    }\n",
              "\n",
              "    [theme=dark] .colab-df-convert:hover {\n",
              "      background-color: #434B5C;\n",
              "      box-shadow: 0px 1px 3px 1px rgba(0, 0, 0, 0.15);\n",
              "      filter: drop-shadow(0px 1px 2px rgba(0, 0, 0, 0.3));\n",
              "      fill: #FFFFFF;\n",
              "    }\n",
              "  </style>\n",
              "\n",
              "      <script>\n",
              "        const buttonEl =\n",
              "          document.querySelector('#df-288ce3cf-48b0-4be5-8d25-77de553f9305 button.colab-df-convert');\n",
              "        buttonEl.style.display =\n",
              "          google.colab.kernel.accessAllowed ? 'block' : 'none';\n",
              "\n",
              "        async function convertToInteractive(key) {\n",
              "          const element = document.querySelector('#df-288ce3cf-48b0-4be5-8d25-77de553f9305');\n",
              "          const dataTable =\n",
              "            await google.colab.kernel.invokeFunction('convertToInteractive',\n",
              "                                                     [key], {});\n",
              "          if (!dataTable) return;\n",
              "\n",
              "          const docLinkHtml = 'Like what you see? Visit the ' +\n",
              "            '<a target=\"_blank\" href=https://colab.research.google.com/notebooks/data_table.ipynb>data table notebook</a>'\n",
              "            + ' to learn more about interactive tables.';\n",
              "          element.innerHTML = '';\n",
              "          dataTable['output_type'] = 'display_data';\n",
              "          await google.colab.output.renderOutput(dataTable, element);\n",
              "          const docLink = document.createElement('div');\n",
              "          docLink.innerHTML = docLinkHtml;\n",
              "          element.appendChild(docLink);\n",
              "        }\n",
              "      </script>\n",
              "    </div>\n",
              "  </div>\n",
              "  "
            ]
          },
          "metadata": {},
          "execution_count": 20
        }
      ]
    },
    {
      "cell_type": "code",
      "source": [
        "airports = pd.read_csv('airports.csv')\n",
        "airports"
      ],
      "metadata": {
        "colab": {
          "base_uri": "https://localhost:8080/",
          "height": 424
        },
        "id": "Lzy3HqqoDPh8",
        "outputId": "810f519e-3c30-42bb-a184-a9531384f724"
      },
      "execution_count": 19,
      "outputs": [
        {
          "output_type": "execute_result",
          "data": {
            "text/plain": [
              "    IATA_CODE                              AIRPORT  \\\n",
              "0         ABE  Lehigh Valley International Airport   \n",
              "1         ABI             Abilene Regional Airport   \n",
              "2         ABQ    Albuquerque International Sunport   \n",
              "3         ABR            Aberdeen Regional Airport   \n",
              "4         ABY   Southwest Georgia Regional Airport   \n",
              "..        ...                                  ...   \n",
              "317       WRG                     Wrangell Airport   \n",
              "318       WYS               Westerly State Airport   \n",
              "319       XNA  Northwest Arkansas Regional Airport   \n",
              "320       YAK                      Yakutat Airport   \n",
              "321       YUM           Yuma International Airport   \n",
              "\n",
              "                               CITY STATE COUNTRY  LATITUDE  LONGITUDE  \n",
              "0                         Allentown    PA     USA  40.65236  -75.44040  \n",
              "1                           Abilene    TX     USA  32.41132  -99.68190  \n",
              "2                       Albuquerque    NM     USA  35.04022 -106.60919  \n",
              "3                          Aberdeen    SD     USA  45.44906  -98.42183  \n",
              "4                            Albany    GA     USA  31.53552  -84.19447  \n",
              "..                              ...   ...     ...       ...        ...  \n",
              "317                        Wrangell    AK     USA  56.48433 -132.36982  \n",
              "318                West Yellowstone    MT     USA  44.68840 -111.11764  \n",
              "319  Fayetteville/Springdale/Rogers    AR     USA  36.28187  -94.30681  \n",
              "320                         Yakutat    AK     USA  59.50336 -139.66023  \n",
              "321                            Yuma    AZ     USA  32.65658 -114.60597  \n",
              "\n",
              "[322 rows x 7 columns]"
            ],
            "text/html": [
              "\n",
              "  <div id=\"df-f53fa41f-d2fa-4acc-ae19-071fa1b00f6c\">\n",
              "    <div class=\"colab-df-container\">\n",
              "      <div>\n",
              "<style scoped>\n",
              "    .dataframe tbody tr th:only-of-type {\n",
              "        vertical-align: middle;\n",
              "    }\n",
              "\n",
              "    .dataframe tbody tr th {\n",
              "        vertical-align: top;\n",
              "    }\n",
              "\n",
              "    .dataframe thead th {\n",
              "        text-align: right;\n",
              "    }\n",
              "</style>\n",
              "<table border=\"1\" class=\"dataframe\">\n",
              "  <thead>\n",
              "    <tr style=\"text-align: right;\">\n",
              "      <th></th>\n",
              "      <th>IATA_CODE</th>\n",
              "      <th>AIRPORT</th>\n",
              "      <th>CITY</th>\n",
              "      <th>STATE</th>\n",
              "      <th>COUNTRY</th>\n",
              "      <th>LATITUDE</th>\n",
              "      <th>LONGITUDE</th>\n",
              "    </tr>\n",
              "  </thead>\n",
              "  <tbody>\n",
              "    <tr>\n",
              "      <th>0</th>\n",
              "      <td>ABE</td>\n",
              "      <td>Lehigh Valley International Airport</td>\n",
              "      <td>Allentown</td>\n",
              "      <td>PA</td>\n",
              "      <td>USA</td>\n",
              "      <td>40.65236</td>\n",
              "      <td>-75.44040</td>\n",
              "    </tr>\n",
              "    <tr>\n",
              "      <th>1</th>\n",
              "      <td>ABI</td>\n",
              "      <td>Abilene Regional Airport</td>\n",
              "      <td>Abilene</td>\n",
              "      <td>TX</td>\n",
              "      <td>USA</td>\n",
              "      <td>32.41132</td>\n",
              "      <td>-99.68190</td>\n",
              "    </tr>\n",
              "    <tr>\n",
              "      <th>2</th>\n",
              "      <td>ABQ</td>\n",
              "      <td>Albuquerque International Sunport</td>\n",
              "      <td>Albuquerque</td>\n",
              "      <td>NM</td>\n",
              "      <td>USA</td>\n",
              "      <td>35.04022</td>\n",
              "      <td>-106.60919</td>\n",
              "    </tr>\n",
              "    <tr>\n",
              "      <th>3</th>\n",
              "      <td>ABR</td>\n",
              "      <td>Aberdeen Regional Airport</td>\n",
              "      <td>Aberdeen</td>\n",
              "      <td>SD</td>\n",
              "      <td>USA</td>\n",
              "      <td>45.44906</td>\n",
              "      <td>-98.42183</td>\n",
              "    </tr>\n",
              "    <tr>\n",
              "      <th>4</th>\n",
              "      <td>ABY</td>\n",
              "      <td>Southwest Georgia Regional Airport</td>\n",
              "      <td>Albany</td>\n",
              "      <td>GA</td>\n",
              "      <td>USA</td>\n",
              "      <td>31.53552</td>\n",
              "      <td>-84.19447</td>\n",
              "    </tr>\n",
              "    <tr>\n",
              "      <th>...</th>\n",
              "      <td>...</td>\n",
              "      <td>...</td>\n",
              "      <td>...</td>\n",
              "      <td>...</td>\n",
              "      <td>...</td>\n",
              "      <td>...</td>\n",
              "      <td>...</td>\n",
              "    </tr>\n",
              "    <tr>\n",
              "      <th>317</th>\n",
              "      <td>WRG</td>\n",
              "      <td>Wrangell Airport</td>\n",
              "      <td>Wrangell</td>\n",
              "      <td>AK</td>\n",
              "      <td>USA</td>\n",
              "      <td>56.48433</td>\n",
              "      <td>-132.36982</td>\n",
              "    </tr>\n",
              "    <tr>\n",
              "      <th>318</th>\n",
              "      <td>WYS</td>\n",
              "      <td>Westerly State Airport</td>\n",
              "      <td>West Yellowstone</td>\n",
              "      <td>MT</td>\n",
              "      <td>USA</td>\n",
              "      <td>44.68840</td>\n",
              "      <td>-111.11764</td>\n",
              "    </tr>\n",
              "    <tr>\n",
              "      <th>319</th>\n",
              "      <td>XNA</td>\n",
              "      <td>Northwest Arkansas Regional Airport</td>\n",
              "      <td>Fayetteville/Springdale/Rogers</td>\n",
              "      <td>AR</td>\n",
              "      <td>USA</td>\n",
              "      <td>36.28187</td>\n",
              "      <td>-94.30681</td>\n",
              "    </tr>\n",
              "    <tr>\n",
              "      <th>320</th>\n",
              "      <td>YAK</td>\n",
              "      <td>Yakutat Airport</td>\n",
              "      <td>Yakutat</td>\n",
              "      <td>AK</td>\n",
              "      <td>USA</td>\n",
              "      <td>59.50336</td>\n",
              "      <td>-139.66023</td>\n",
              "    </tr>\n",
              "    <tr>\n",
              "      <th>321</th>\n",
              "      <td>YUM</td>\n",
              "      <td>Yuma International Airport</td>\n",
              "      <td>Yuma</td>\n",
              "      <td>AZ</td>\n",
              "      <td>USA</td>\n",
              "      <td>32.65658</td>\n",
              "      <td>-114.60597</td>\n",
              "    </tr>\n",
              "  </tbody>\n",
              "</table>\n",
              "<p>322 rows × 7 columns</p>\n",
              "</div>\n",
              "      <button class=\"colab-df-convert\" onclick=\"convertToInteractive('df-f53fa41f-d2fa-4acc-ae19-071fa1b00f6c')\"\n",
              "              title=\"Convert this dataframe to an interactive table.\"\n",
              "              style=\"display:none;\">\n",
              "        \n",
              "  <svg xmlns=\"http://www.w3.org/2000/svg\" height=\"24px\"viewBox=\"0 0 24 24\"\n",
              "       width=\"24px\">\n",
              "    <path d=\"M0 0h24v24H0V0z\" fill=\"none\"/>\n",
              "    <path d=\"M18.56 5.44l.94 2.06.94-2.06 2.06-.94-2.06-.94-.94-2.06-.94 2.06-2.06.94zm-11 1L8.5 8.5l.94-2.06 2.06-.94-2.06-.94L8.5 2.5l-.94 2.06-2.06.94zm10 10l.94 2.06.94-2.06 2.06-.94-2.06-.94-.94-2.06-.94 2.06-2.06.94z\"/><path d=\"M17.41 7.96l-1.37-1.37c-.4-.4-.92-.59-1.43-.59-.52 0-1.04.2-1.43.59L10.3 9.45l-7.72 7.72c-.78.78-.78 2.05 0 2.83L4 21.41c.39.39.9.59 1.41.59.51 0 1.02-.2 1.41-.59l7.78-7.78 2.81-2.81c.8-.78.8-2.07 0-2.86zM5.41 20L4 18.59l7.72-7.72 1.47 1.35L5.41 20z\"/>\n",
              "  </svg>\n",
              "      </button>\n",
              "      \n",
              "  <style>\n",
              "    .colab-df-container {\n",
              "      display:flex;\n",
              "      flex-wrap:wrap;\n",
              "      gap: 12px;\n",
              "    }\n",
              "\n",
              "    .colab-df-convert {\n",
              "      background-color: #E8F0FE;\n",
              "      border: none;\n",
              "      border-radius: 50%;\n",
              "      cursor: pointer;\n",
              "      display: none;\n",
              "      fill: #1967D2;\n",
              "      height: 32px;\n",
              "      padding: 0 0 0 0;\n",
              "      width: 32px;\n",
              "    }\n",
              "\n",
              "    .colab-df-convert:hover {\n",
              "      background-color: #E2EBFA;\n",
              "      box-shadow: 0px 1px 2px rgba(60, 64, 67, 0.3), 0px 1px 3px 1px rgba(60, 64, 67, 0.15);\n",
              "      fill: #174EA6;\n",
              "    }\n",
              "\n",
              "    [theme=dark] .colab-df-convert {\n",
              "      background-color: #3B4455;\n",
              "      fill: #D2E3FC;\n",
              "    }\n",
              "\n",
              "    [theme=dark] .colab-df-convert:hover {\n",
              "      background-color: #434B5C;\n",
              "      box-shadow: 0px 1px 3px 1px rgba(0, 0, 0, 0.15);\n",
              "      filter: drop-shadow(0px 1px 2px rgba(0, 0, 0, 0.3));\n",
              "      fill: #FFFFFF;\n",
              "    }\n",
              "  </style>\n",
              "\n",
              "      <script>\n",
              "        const buttonEl =\n",
              "          document.querySelector('#df-f53fa41f-d2fa-4acc-ae19-071fa1b00f6c button.colab-df-convert');\n",
              "        buttonEl.style.display =\n",
              "          google.colab.kernel.accessAllowed ? 'block' : 'none';\n",
              "\n",
              "        async function convertToInteractive(key) {\n",
              "          const element = document.querySelector('#df-f53fa41f-d2fa-4acc-ae19-071fa1b00f6c');\n",
              "          const dataTable =\n",
              "            await google.colab.kernel.invokeFunction('convertToInteractive',\n",
              "                                                     [key], {});\n",
              "          if (!dataTable) return;\n",
              "\n",
              "          const docLinkHtml = 'Like what you see? Visit the ' +\n",
              "            '<a target=\"_blank\" href=https://colab.research.google.com/notebooks/data_table.ipynb>data table notebook</a>'\n",
              "            + ' to learn more about interactive tables.';\n",
              "          element.innerHTML = '';\n",
              "          dataTable['output_type'] = 'display_data';\n",
              "          await google.colab.output.renderOutput(dataTable, element);\n",
              "          const docLink = document.createElement('div');\n",
              "          docLink.innerHTML = docLinkHtml;\n",
              "          element.appendChild(docLink);\n",
              "        }\n",
              "      </script>\n",
              "    </div>\n",
              "  </div>\n",
              "  "
            ]
          },
          "metadata": {},
          "execution_count": 19
        }
      ]
    },
    {
      "cell_type": "code",
      "source": [
        "flights = pd.read_csv('flights.csv')\n",
        "flights"
      ],
      "metadata": {
        "colab": {
          "base_uri": "https://localhost:8080/",
          "height": 524
        },
        "id": "mqvVv3LH8TRa",
        "outputId": "56ed3e34-c278-473a-82da-02cb19153049"
      },
      "execution_count": 50,
      "outputs": [
        {
          "output_type": "stream",
          "name": "stderr",
          "text": [
            "/usr/local/lib/python3.7/dist-packages/IPython/core/interactiveshell.py:2882: DtypeWarning: Columns (7,8) have mixed types.Specify dtype option on import or set low_memory=False.\n",
            "  exec(code_obj, self.user_global_ns, self.user_ns)\n"
          ]
        },
        {
          "output_type": "execute_result",
          "data": {
            "text/plain": [
              "         YEAR  MONTH  DAY  DAY_OF_WEEK AIRLINE  FLIGHT_NUMBER TAIL_NUMBER  \\\n",
              "0        2015      1    1            4      AS             98      N407AS   \n",
              "1        2015      1    1            4      AA           2336      N3KUAA   \n",
              "2        2015      1    1            4      US            840      N171US   \n",
              "3        2015      1    1            4      AA            258      N3HYAA   \n",
              "4        2015      1    1            4      AS            135      N527AS   \n",
              "...       ...    ...  ...          ...     ...            ...         ...   \n",
              "5819074  2015     12   31            4      B6            688      N657JB   \n",
              "5819075  2015     12   31            4      B6            745      N828JB   \n",
              "5819076  2015     12   31            4      B6           1503      N913JB   \n",
              "5819077  2015     12   31            4      B6            333      N527JB   \n",
              "5819078  2015     12   31            4      B6            839      N534JB   \n",
              "\n",
              "        ORIGIN_AIRPORT DESTINATION_AIRPORT  SCHEDULED_DEPARTURE  ...  \\\n",
              "0                  ANC                 SEA                    5  ...   \n",
              "1                  LAX                 PBI                   10  ...   \n",
              "2                  SFO                 CLT                   20  ...   \n",
              "3                  LAX                 MIA                   20  ...   \n",
              "4                  SEA                 ANC                   25  ...   \n",
              "...                ...                 ...                  ...  ...   \n",
              "5819074            LAX                 BOS                 2359  ...   \n",
              "5819075            JFK                 PSE                 2359  ...   \n",
              "5819076            JFK                 SJU                 2359  ...   \n",
              "5819077            MCO                 SJU                 2359  ...   \n",
              "5819078            JFK                 BQN                 2359  ...   \n",
              "\n",
              "         ARRIVAL_TIME  ARRIVAL_DELAY  DIVERTED  CANCELLED  \\\n",
              "0               408.0          -22.0         0          0   \n",
              "1               741.0           -9.0         0          0   \n",
              "2               811.0            5.0         0          0   \n",
              "3               756.0           -9.0         0          0   \n",
              "4               259.0          -21.0         0          0   \n",
              "...               ...            ...       ...        ...   \n",
              "5819074         753.0          -26.0         0          0   \n",
              "5819075         430.0          -16.0         0          0   \n",
              "5819076         432.0           -8.0         0          0   \n",
              "5819077         330.0          -10.0         0          0   \n",
              "5819078         442.0            2.0         0          0   \n",
              "\n",
              "         CANCELLATION_REASON  AIR_SYSTEM_DELAY  SECURITY_DELAY  AIRLINE_DELAY  \\\n",
              "0                        NaN               NaN             NaN            NaN   \n",
              "1                        NaN               NaN             NaN            NaN   \n",
              "2                        NaN               NaN             NaN            NaN   \n",
              "3                        NaN               NaN             NaN            NaN   \n",
              "4                        NaN               NaN             NaN            NaN   \n",
              "...                      ...               ...             ...            ...   \n",
              "5819074                  NaN               NaN             NaN            NaN   \n",
              "5819075                  NaN               NaN             NaN            NaN   \n",
              "5819076                  NaN               NaN             NaN            NaN   \n",
              "5819077                  NaN               NaN             NaN            NaN   \n",
              "5819078                  NaN               NaN             NaN            NaN   \n",
              "\n",
              "         LATE_AIRCRAFT_DELAY  WEATHER_DELAY  \n",
              "0                        NaN            NaN  \n",
              "1                        NaN            NaN  \n",
              "2                        NaN            NaN  \n",
              "3                        NaN            NaN  \n",
              "4                        NaN            NaN  \n",
              "...                      ...            ...  \n",
              "5819074                  NaN            NaN  \n",
              "5819075                  NaN            NaN  \n",
              "5819076                  NaN            NaN  \n",
              "5819077                  NaN            NaN  \n",
              "5819078                  NaN            NaN  \n",
              "\n",
              "[5819079 rows x 31 columns]"
            ],
            "text/html": [
              "\n",
              "  <div id=\"df-b41d3efa-fda2-4362-958b-9d61fe63b947\">\n",
              "    <div class=\"colab-df-container\">\n",
              "      <div>\n",
              "<style scoped>\n",
              "    .dataframe tbody tr th:only-of-type {\n",
              "        vertical-align: middle;\n",
              "    }\n",
              "\n",
              "    .dataframe tbody tr th {\n",
              "        vertical-align: top;\n",
              "    }\n",
              "\n",
              "    .dataframe thead th {\n",
              "        text-align: right;\n",
              "    }\n",
              "</style>\n",
              "<table border=\"1\" class=\"dataframe\">\n",
              "  <thead>\n",
              "    <tr style=\"text-align: right;\">\n",
              "      <th></th>\n",
              "      <th>YEAR</th>\n",
              "      <th>MONTH</th>\n",
              "      <th>DAY</th>\n",
              "      <th>DAY_OF_WEEK</th>\n",
              "      <th>AIRLINE</th>\n",
              "      <th>FLIGHT_NUMBER</th>\n",
              "      <th>TAIL_NUMBER</th>\n",
              "      <th>ORIGIN_AIRPORT</th>\n",
              "      <th>DESTINATION_AIRPORT</th>\n",
              "      <th>SCHEDULED_DEPARTURE</th>\n",
              "      <th>...</th>\n",
              "      <th>ARRIVAL_TIME</th>\n",
              "      <th>ARRIVAL_DELAY</th>\n",
              "      <th>DIVERTED</th>\n",
              "      <th>CANCELLED</th>\n",
              "      <th>CANCELLATION_REASON</th>\n",
              "      <th>AIR_SYSTEM_DELAY</th>\n",
              "      <th>SECURITY_DELAY</th>\n",
              "      <th>AIRLINE_DELAY</th>\n",
              "      <th>LATE_AIRCRAFT_DELAY</th>\n",
              "      <th>WEATHER_DELAY</th>\n",
              "    </tr>\n",
              "  </thead>\n",
              "  <tbody>\n",
              "    <tr>\n",
              "      <th>0</th>\n",
              "      <td>2015</td>\n",
              "      <td>1</td>\n",
              "      <td>1</td>\n",
              "      <td>4</td>\n",
              "      <td>AS</td>\n",
              "      <td>98</td>\n",
              "      <td>N407AS</td>\n",
              "      <td>ANC</td>\n",
              "      <td>SEA</td>\n",
              "      <td>5</td>\n",
              "      <td>...</td>\n",
              "      <td>408.0</td>\n",
              "      <td>-22.0</td>\n",
              "      <td>0</td>\n",
              "      <td>0</td>\n",
              "      <td>NaN</td>\n",
              "      <td>NaN</td>\n",
              "      <td>NaN</td>\n",
              "      <td>NaN</td>\n",
              "      <td>NaN</td>\n",
              "      <td>NaN</td>\n",
              "    </tr>\n",
              "    <tr>\n",
              "      <th>1</th>\n",
              "      <td>2015</td>\n",
              "      <td>1</td>\n",
              "      <td>1</td>\n",
              "      <td>4</td>\n",
              "      <td>AA</td>\n",
              "      <td>2336</td>\n",
              "      <td>N3KUAA</td>\n",
              "      <td>LAX</td>\n",
              "      <td>PBI</td>\n",
              "      <td>10</td>\n",
              "      <td>...</td>\n",
              "      <td>741.0</td>\n",
              "      <td>-9.0</td>\n",
              "      <td>0</td>\n",
              "      <td>0</td>\n",
              "      <td>NaN</td>\n",
              "      <td>NaN</td>\n",
              "      <td>NaN</td>\n",
              "      <td>NaN</td>\n",
              "      <td>NaN</td>\n",
              "      <td>NaN</td>\n",
              "    </tr>\n",
              "    <tr>\n",
              "      <th>2</th>\n",
              "      <td>2015</td>\n",
              "      <td>1</td>\n",
              "      <td>1</td>\n",
              "      <td>4</td>\n",
              "      <td>US</td>\n",
              "      <td>840</td>\n",
              "      <td>N171US</td>\n",
              "      <td>SFO</td>\n",
              "      <td>CLT</td>\n",
              "      <td>20</td>\n",
              "      <td>...</td>\n",
              "      <td>811.0</td>\n",
              "      <td>5.0</td>\n",
              "      <td>0</td>\n",
              "      <td>0</td>\n",
              "      <td>NaN</td>\n",
              "      <td>NaN</td>\n",
              "      <td>NaN</td>\n",
              "      <td>NaN</td>\n",
              "      <td>NaN</td>\n",
              "      <td>NaN</td>\n",
              "    </tr>\n",
              "    <tr>\n",
              "      <th>3</th>\n",
              "      <td>2015</td>\n",
              "      <td>1</td>\n",
              "      <td>1</td>\n",
              "      <td>4</td>\n",
              "      <td>AA</td>\n",
              "      <td>258</td>\n",
              "      <td>N3HYAA</td>\n",
              "      <td>LAX</td>\n",
              "      <td>MIA</td>\n",
              "      <td>20</td>\n",
              "      <td>...</td>\n",
              "      <td>756.0</td>\n",
              "      <td>-9.0</td>\n",
              "      <td>0</td>\n",
              "      <td>0</td>\n",
              "      <td>NaN</td>\n",
              "      <td>NaN</td>\n",
              "      <td>NaN</td>\n",
              "      <td>NaN</td>\n",
              "      <td>NaN</td>\n",
              "      <td>NaN</td>\n",
              "    </tr>\n",
              "    <tr>\n",
              "      <th>4</th>\n",
              "      <td>2015</td>\n",
              "      <td>1</td>\n",
              "      <td>1</td>\n",
              "      <td>4</td>\n",
              "      <td>AS</td>\n",
              "      <td>135</td>\n",
              "      <td>N527AS</td>\n",
              "      <td>SEA</td>\n",
              "      <td>ANC</td>\n",
              "      <td>25</td>\n",
              "      <td>...</td>\n",
              "      <td>259.0</td>\n",
              "      <td>-21.0</td>\n",
              "      <td>0</td>\n",
              "      <td>0</td>\n",
              "      <td>NaN</td>\n",
              "      <td>NaN</td>\n",
              "      <td>NaN</td>\n",
              "      <td>NaN</td>\n",
              "      <td>NaN</td>\n",
              "      <td>NaN</td>\n",
              "    </tr>\n",
              "    <tr>\n",
              "      <th>...</th>\n",
              "      <td>...</td>\n",
              "      <td>...</td>\n",
              "      <td>...</td>\n",
              "      <td>...</td>\n",
              "      <td>...</td>\n",
              "      <td>...</td>\n",
              "      <td>...</td>\n",
              "      <td>...</td>\n",
              "      <td>...</td>\n",
              "      <td>...</td>\n",
              "      <td>...</td>\n",
              "      <td>...</td>\n",
              "      <td>...</td>\n",
              "      <td>...</td>\n",
              "      <td>...</td>\n",
              "      <td>...</td>\n",
              "      <td>...</td>\n",
              "      <td>...</td>\n",
              "      <td>...</td>\n",
              "      <td>...</td>\n",
              "      <td>...</td>\n",
              "    </tr>\n",
              "    <tr>\n",
              "      <th>5819074</th>\n",
              "      <td>2015</td>\n",
              "      <td>12</td>\n",
              "      <td>31</td>\n",
              "      <td>4</td>\n",
              "      <td>B6</td>\n",
              "      <td>688</td>\n",
              "      <td>N657JB</td>\n",
              "      <td>LAX</td>\n",
              "      <td>BOS</td>\n",
              "      <td>2359</td>\n",
              "      <td>...</td>\n",
              "      <td>753.0</td>\n",
              "      <td>-26.0</td>\n",
              "      <td>0</td>\n",
              "      <td>0</td>\n",
              "      <td>NaN</td>\n",
              "      <td>NaN</td>\n",
              "      <td>NaN</td>\n",
              "      <td>NaN</td>\n",
              "      <td>NaN</td>\n",
              "      <td>NaN</td>\n",
              "    </tr>\n",
              "    <tr>\n",
              "      <th>5819075</th>\n",
              "      <td>2015</td>\n",
              "      <td>12</td>\n",
              "      <td>31</td>\n",
              "      <td>4</td>\n",
              "      <td>B6</td>\n",
              "      <td>745</td>\n",
              "      <td>N828JB</td>\n",
              "      <td>JFK</td>\n",
              "      <td>PSE</td>\n",
              "      <td>2359</td>\n",
              "      <td>...</td>\n",
              "      <td>430.0</td>\n",
              "      <td>-16.0</td>\n",
              "      <td>0</td>\n",
              "      <td>0</td>\n",
              "      <td>NaN</td>\n",
              "      <td>NaN</td>\n",
              "      <td>NaN</td>\n",
              "      <td>NaN</td>\n",
              "      <td>NaN</td>\n",
              "      <td>NaN</td>\n",
              "    </tr>\n",
              "    <tr>\n",
              "      <th>5819076</th>\n",
              "      <td>2015</td>\n",
              "      <td>12</td>\n",
              "      <td>31</td>\n",
              "      <td>4</td>\n",
              "      <td>B6</td>\n",
              "      <td>1503</td>\n",
              "      <td>N913JB</td>\n",
              "      <td>JFK</td>\n",
              "      <td>SJU</td>\n",
              "      <td>2359</td>\n",
              "      <td>...</td>\n",
              "      <td>432.0</td>\n",
              "      <td>-8.0</td>\n",
              "      <td>0</td>\n",
              "      <td>0</td>\n",
              "      <td>NaN</td>\n",
              "      <td>NaN</td>\n",
              "      <td>NaN</td>\n",
              "      <td>NaN</td>\n",
              "      <td>NaN</td>\n",
              "      <td>NaN</td>\n",
              "    </tr>\n",
              "    <tr>\n",
              "      <th>5819077</th>\n",
              "      <td>2015</td>\n",
              "      <td>12</td>\n",
              "      <td>31</td>\n",
              "      <td>4</td>\n",
              "      <td>B6</td>\n",
              "      <td>333</td>\n",
              "      <td>N527JB</td>\n",
              "      <td>MCO</td>\n",
              "      <td>SJU</td>\n",
              "      <td>2359</td>\n",
              "      <td>...</td>\n",
              "      <td>330.0</td>\n",
              "      <td>-10.0</td>\n",
              "      <td>0</td>\n",
              "      <td>0</td>\n",
              "      <td>NaN</td>\n",
              "      <td>NaN</td>\n",
              "      <td>NaN</td>\n",
              "      <td>NaN</td>\n",
              "      <td>NaN</td>\n",
              "      <td>NaN</td>\n",
              "    </tr>\n",
              "    <tr>\n",
              "      <th>5819078</th>\n",
              "      <td>2015</td>\n",
              "      <td>12</td>\n",
              "      <td>31</td>\n",
              "      <td>4</td>\n",
              "      <td>B6</td>\n",
              "      <td>839</td>\n",
              "      <td>N534JB</td>\n",
              "      <td>JFK</td>\n",
              "      <td>BQN</td>\n",
              "      <td>2359</td>\n",
              "      <td>...</td>\n",
              "      <td>442.0</td>\n",
              "      <td>2.0</td>\n",
              "      <td>0</td>\n",
              "      <td>0</td>\n",
              "      <td>NaN</td>\n",
              "      <td>NaN</td>\n",
              "      <td>NaN</td>\n",
              "      <td>NaN</td>\n",
              "      <td>NaN</td>\n",
              "      <td>NaN</td>\n",
              "    </tr>\n",
              "  </tbody>\n",
              "</table>\n",
              "<p>5819079 rows × 31 columns</p>\n",
              "</div>\n",
              "      <button class=\"colab-df-convert\" onclick=\"convertToInteractive('df-b41d3efa-fda2-4362-958b-9d61fe63b947')\"\n",
              "              title=\"Convert this dataframe to an interactive table.\"\n",
              "              style=\"display:none;\">\n",
              "        \n",
              "  <svg xmlns=\"http://www.w3.org/2000/svg\" height=\"24px\"viewBox=\"0 0 24 24\"\n",
              "       width=\"24px\">\n",
              "    <path d=\"M0 0h24v24H0V0z\" fill=\"none\"/>\n",
              "    <path d=\"M18.56 5.44l.94 2.06.94-2.06 2.06-.94-2.06-.94-.94-2.06-.94 2.06-2.06.94zm-11 1L8.5 8.5l.94-2.06 2.06-.94-2.06-.94L8.5 2.5l-.94 2.06-2.06.94zm10 10l.94 2.06.94-2.06 2.06-.94-2.06-.94-.94-2.06-.94 2.06-2.06.94z\"/><path d=\"M17.41 7.96l-1.37-1.37c-.4-.4-.92-.59-1.43-.59-.52 0-1.04.2-1.43.59L10.3 9.45l-7.72 7.72c-.78.78-.78 2.05 0 2.83L4 21.41c.39.39.9.59 1.41.59.51 0 1.02-.2 1.41-.59l7.78-7.78 2.81-2.81c.8-.78.8-2.07 0-2.86zM5.41 20L4 18.59l7.72-7.72 1.47 1.35L5.41 20z\"/>\n",
              "  </svg>\n",
              "      </button>\n",
              "      \n",
              "  <style>\n",
              "    .colab-df-container {\n",
              "      display:flex;\n",
              "      flex-wrap:wrap;\n",
              "      gap: 12px;\n",
              "    }\n",
              "\n",
              "    .colab-df-convert {\n",
              "      background-color: #E8F0FE;\n",
              "      border: none;\n",
              "      border-radius: 50%;\n",
              "      cursor: pointer;\n",
              "      display: none;\n",
              "      fill: #1967D2;\n",
              "      height: 32px;\n",
              "      padding: 0 0 0 0;\n",
              "      width: 32px;\n",
              "    }\n",
              "\n",
              "    .colab-df-convert:hover {\n",
              "      background-color: #E2EBFA;\n",
              "      box-shadow: 0px 1px 2px rgba(60, 64, 67, 0.3), 0px 1px 3px 1px rgba(60, 64, 67, 0.15);\n",
              "      fill: #174EA6;\n",
              "    }\n",
              "\n",
              "    [theme=dark] .colab-df-convert {\n",
              "      background-color: #3B4455;\n",
              "      fill: #D2E3FC;\n",
              "    }\n",
              "\n",
              "    [theme=dark] .colab-df-convert:hover {\n",
              "      background-color: #434B5C;\n",
              "      box-shadow: 0px 1px 3px 1px rgba(0, 0, 0, 0.15);\n",
              "      filter: drop-shadow(0px 1px 2px rgba(0, 0, 0, 0.3));\n",
              "      fill: #FFFFFF;\n",
              "    }\n",
              "  </style>\n",
              "\n",
              "      <script>\n",
              "        const buttonEl =\n",
              "          document.querySelector('#df-b41d3efa-fda2-4362-958b-9d61fe63b947 button.colab-df-convert');\n",
              "        buttonEl.style.display =\n",
              "          google.colab.kernel.accessAllowed ? 'block' : 'none';\n",
              "\n",
              "        async function convertToInteractive(key) {\n",
              "          const element = document.querySelector('#df-b41d3efa-fda2-4362-958b-9d61fe63b947');\n",
              "          const dataTable =\n",
              "            await google.colab.kernel.invokeFunction('convertToInteractive',\n",
              "                                                     [key], {});\n",
              "          if (!dataTable) return;\n",
              "\n",
              "          const docLinkHtml = 'Like what you see? Visit the ' +\n",
              "            '<a target=\"_blank\" href=https://colab.research.google.com/notebooks/data_table.ipynb>data table notebook</a>'\n",
              "            + ' to learn more about interactive tables.';\n",
              "          element.innerHTML = '';\n",
              "          dataTable['output_type'] = 'display_data';\n",
              "          await google.colab.output.renderOutput(dataTable, element);\n",
              "          const docLink = document.createElement('div');\n",
              "          docLink.innerHTML = docLinkHtml;\n",
              "          element.appendChild(docLink);\n",
              "        }\n",
              "      </script>\n",
              "    </div>\n",
              "  </div>\n",
              "  "
            ]
          },
          "metadata": {},
          "execution_count": 50
        }
      ]
    },
    {
      "cell_type": "code",
      "source": [
        "flights.info()"
      ],
      "metadata": {
        "colab": {
          "base_uri": "https://localhost:8080/"
        },
        "id": "6sLjPxXL86ZG",
        "outputId": "2b253108-11f6-4efe-f13d-cfcddaa2325f"
      },
      "execution_count": 8,
      "outputs": [
        {
          "output_type": "stream",
          "name": "stdout",
          "text": [
            "<class 'pandas.core.frame.DataFrame'>\n",
            "RangeIndex: 5819079 entries, 0 to 5819078\n",
            "Data columns (total 31 columns):\n",
            " #   Column               Dtype  \n",
            "---  ------               -----  \n",
            " 0   YEAR                 int64  \n",
            " 1   MONTH                int64  \n",
            " 2   DAY                  int64  \n",
            " 3   DAY_OF_WEEK          int64  \n",
            " 4   AIRLINE              object \n",
            " 5   FLIGHT_NUMBER        int64  \n",
            " 6   TAIL_NUMBER          object \n",
            " 7   ORIGIN_AIRPORT       object \n",
            " 8   DESTINATION_AIRPORT  object \n",
            " 9   SCHEDULED_DEPARTURE  int64  \n",
            " 10  DEPARTURE_TIME       float64\n",
            " 11  DEPARTURE_DELAY      float64\n",
            " 12  TAXI_OUT             float64\n",
            " 13  WHEELS_OFF           float64\n",
            " 14  SCHEDULED_TIME       float64\n",
            " 15  ELAPSED_TIME         float64\n",
            " 16  AIR_TIME             float64\n",
            " 17  DISTANCE             int64  \n",
            " 18  WHEELS_ON            float64\n",
            " 19  TAXI_IN              float64\n",
            " 20  SCHEDULED_ARRIVAL    int64  \n",
            " 21  ARRIVAL_TIME         float64\n",
            " 22  ARRIVAL_DELAY        float64\n",
            " 23  DIVERTED             int64  \n",
            " 24  CANCELLED            int64  \n",
            " 25  CANCELLATION_REASON  object \n",
            " 26  AIR_SYSTEM_DELAY     float64\n",
            " 27  SECURITY_DELAY       float64\n",
            " 28  AIRLINE_DELAY        float64\n",
            " 29  LATE_AIRCRAFT_DELAY  float64\n",
            " 30  WEATHER_DELAY        float64\n",
            "dtypes: float64(16), int64(10), object(5)\n",
            "memory usage: 1.3+ GB\n"
          ]
        }
      ]
    },
    {
      "cell_type": "code",
      "source": [
        "flights.dtypes"
      ],
      "metadata": {
        "colab": {
          "base_uri": "https://localhost:8080/"
        },
        "id": "15ri2G2286cS",
        "outputId": "dc7ba929-2f0e-478f-b422-0910798c259c"
      },
      "execution_count": 10,
      "outputs": [
        {
          "output_type": "execute_result",
          "data": {
            "text/plain": [
              "YEAR                     int64\n",
              "MONTH                    int64\n",
              "DAY                      int64\n",
              "DAY_OF_WEEK              int64\n",
              "AIRLINE                 object\n",
              "FLIGHT_NUMBER            int64\n",
              "TAIL_NUMBER             object\n",
              "ORIGIN_AIRPORT          object\n",
              "DESTINATION_AIRPORT     object\n",
              "SCHEDULED_DEPARTURE      int64\n",
              "DEPARTURE_TIME         float64\n",
              "DEPARTURE_DELAY        float64\n",
              "TAXI_OUT               float64\n",
              "WHEELS_OFF             float64\n",
              "SCHEDULED_TIME         float64\n",
              "ELAPSED_TIME           float64\n",
              "AIR_TIME               float64\n",
              "DISTANCE                 int64\n",
              "WHEELS_ON              float64\n",
              "TAXI_IN                float64\n",
              "SCHEDULED_ARRIVAL        int64\n",
              "ARRIVAL_TIME           float64\n",
              "ARRIVAL_DELAY          float64\n",
              "DIVERTED                 int64\n",
              "CANCELLED                int64\n",
              "CANCELLATION_REASON     object\n",
              "AIR_SYSTEM_DELAY       float64\n",
              "SECURITY_DELAY         float64\n",
              "AIRLINE_DELAY          float64\n",
              "LATE_AIRCRAFT_DELAY    float64\n",
              "WEATHER_DELAY          float64\n",
              "dtype: object"
            ]
          },
          "metadata": {},
          "execution_count": 10
        }
      ]
    },
    {
      "cell_type": "code",
      "source": [
        "#missing values\n",
        "flights.isnull().mean()"
      ],
      "metadata": {
        "colab": {
          "base_uri": "https://localhost:8080/"
        },
        "id": "x-gRUm4Y8Tcw",
        "outputId": "41b62e61-7bd3-460f-f930-83143357324d"
      },
      "execution_count": 78,
      "outputs": [
        {
          "output_type": "execute_result",
          "data": {
            "text/plain": [
              "YEAR                   0.000000\n",
              "MONTH                  0.000000\n",
              "DAY                    0.000000\n",
              "DAY_OF_WEEK            0.000000\n",
              "AIRLINE                0.000000\n",
              "FLIGHT_NUMBER          0.000000\n",
              "TAIL_NUMBER            0.002530\n",
              "ORIGIN_AIRPORT         0.000000\n",
              "DESTINATION_AIRPORT    0.000000\n",
              "SCHEDULED_DEPARTURE    0.000000\n",
              "DEPARTURE_TIME         0.014805\n",
              "DEPARTURE_DELAY        0.014805\n",
              "TAXI_OUT               0.015303\n",
              "WHEELS_OFF             0.015303\n",
              "SCHEDULED_TIME         0.000001\n",
              "ELAPSED_TIME           0.018056\n",
              "AIR_TIME               0.018056\n",
              "DISTANCE               0.000000\n",
              "WHEELS_ON              0.015898\n",
              "TAXI_IN                0.015898\n",
              "SCHEDULED_ARRIVAL      0.000000\n",
              "ARRIVAL_TIME           0.015898\n",
              "ARRIVAL_DELAY          0.018056\n",
              "DIVERTED               0.000000\n",
              "CANCELLED              0.000000\n",
              "CANCELLATION_REASON    0.984554\n",
              "AIR_SYSTEM_DELAY       0.817250\n",
              "SECURITY_DELAY         0.817250\n",
              "AIRLINE_DELAY          0.817250\n",
              "LATE_AIRCRAFT_DELAY    0.817250\n",
              "WEATHER_DELAY          0.817250\n",
              "DepDate                0.000000\n",
              "Status                 0.000000\n",
              "dtype: float64"
            ]
          },
          "metadata": {},
          "execution_count": 78
        }
      ]
    },
    {
      "cell_type": "code",
      "source": [
        "flights.isna().mean() >0.25"
      ],
      "metadata": {
        "colab": {
          "base_uri": "https://localhost:8080/"
        },
        "id": "SlTwUYcW2hxD",
        "outputId": "f3420fa7-c121-49a4-aeb0-affde92cfe11"
      },
      "execution_count": 79,
      "outputs": [
        {
          "output_type": "execute_result",
          "data": {
            "text/plain": [
              "YEAR                   False\n",
              "MONTH                  False\n",
              "DAY                    False\n",
              "DAY_OF_WEEK            False\n",
              "AIRLINE                False\n",
              "FLIGHT_NUMBER          False\n",
              "TAIL_NUMBER            False\n",
              "ORIGIN_AIRPORT         False\n",
              "DESTINATION_AIRPORT    False\n",
              "SCHEDULED_DEPARTURE    False\n",
              "DEPARTURE_TIME         False\n",
              "DEPARTURE_DELAY        False\n",
              "TAXI_OUT               False\n",
              "WHEELS_OFF             False\n",
              "SCHEDULED_TIME         False\n",
              "ELAPSED_TIME           False\n",
              "AIR_TIME               False\n",
              "DISTANCE               False\n",
              "WHEELS_ON              False\n",
              "TAXI_IN                False\n",
              "SCHEDULED_ARRIVAL      False\n",
              "ARRIVAL_TIME           False\n",
              "ARRIVAL_DELAY          False\n",
              "DIVERTED               False\n",
              "CANCELLED              False\n",
              "CANCELLATION_REASON     True\n",
              "AIR_SYSTEM_DELAY        True\n",
              "SECURITY_DELAY          True\n",
              "AIRLINE_DELAY           True\n",
              "LATE_AIRCRAFT_DELAY     True\n",
              "WEATHER_DELAY           True\n",
              "DepDate                False\n",
              "Status                 False\n",
              "dtype: bool"
            ]
          },
          "metadata": {},
          "execution_count": 79
        }
      ]
    },
    {
      "cell_type": "code",
      "source": [
        "irrelevant_columns = flights.loc[:, flights.isna().mean() >0.25].columns\n",
        "flights = flights.drop(irelevant_columns, axis=1)\n",
        "return flights"
      ],
      "metadata": {
        "id": "5bz_QmzT29B7"
      },
      "execution_count": null,
      "outputs": []
    },
    {
      "cell_type": "code",
      "source": [
        "corrmat = flights.corr()\n",
        "f, ax = plt.subplots(figsize=(12, 9))\n",
        "sns.heatmap(corrmat, vmax=.8, square=True);\n",
        "plt.show()"
      ],
      "metadata": {
        "colab": {
          "base_uri": "https://localhost:8080/",
          "height": 657
        },
        "id": "OfuFnjHY8TaR",
        "outputId": "19ff24ba-a572-47cc-a35e-ebbe86d10959"
      },
      "execution_count": 13,
      "outputs": [
        {
          "output_type": "display_data",
          "data": {
            "text/plain": [
              "<Figure size 864x648 with 2 Axes>"
            ],
            "image/png": "[encoded data removed]"
          },
          "metadata": {
            "needs_background": "light"
          }
        }
      ]
    },
    {
      "cell_type": "code",
      "source": [
        "flights.corr()"
      ],
      "metadata": {
        "colab": {
          "base_uri": "https://localhost:8080/",
          "height": 958
        },
        "id": "D6syENTu_g_m",
        "outputId": "91a2b5b0-8c9a-4b00-b378-47d66b835d1b"
      },
      "execution_count": 23,
      "outputs": [
        {
          "output_type": "execute_result",
          "data": {
            "text/plain": [
              "                     YEAR     MONTH       DAY  DAY_OF_WEEK  FLIGHT_NUMBER  \\\n",
              "YEAR                  NaN       NaN       NaN          NaN            NaN   \n",
              "MONTH                 NaN  1.000000  0.008874    -0.007847      -0.020746   \n",
              "DAY                   NaN  0.008874  1.000000     0.001111       0.001855   \n",
              "DAY_OF_WEEK           NaN -0.007847  0.001111     1.000000       0.014461   \n",
              "FLIGHT_NUMBER         NaN -0.020746  0.001855     0.014461       1.000000   \n",
              "SCHEDULED_DEPARTURE   NaN  0.000207 -0.001647     0.008007      -0.005485   \n",
              "DEPARTURE_TIME        NaN -0.004085 -0.002644     0.005607      -0.001444   \n",
              "DEPARTURE_DELAY       NaN -0.021994 -0.000176    -0.011510      -0.008665   \n",
              "TAXI_OUT              NaN -0.013117 -0.002661    -0.020639       0.050369   \n",
              "WHEELS_OFF            NaN -0.004946 -0.003318     0.004060       0.005289   \n",
              "SCHEDULED_TIME        NaN  0.010784  0.003403     0.014954      -0.317394   \n",
              "ELAPSED_TIME          NaN  0.001871  0.001419     0.011510      -0.306611   \n",
              "AIR_TIME              NaN  0.003379  0.001923     0.014284      -0.319681   \n",
              "DISTANCE              NaN  0.011437  0.003529     0.016516      -0.331280   \n",
              "WHEELS_ON             NaN -0.008917 -0.004294     0.005642      -0.006134   \n",
              "TAXI_IN               NaN  0.002095 -0.001656     0.001111      -0.019740   \n",
              "SCHEDULED_ARRIVAL     NaN -0.010121 -0.003688     0.007092      -0.013947   \n",
              "ARRIVAL_TIME          NaN -0.009133 -0.004310     0.005641      -0.002821   \n",
              "ARRIVAL_DELAY         NaN -0.036793 -0.003097    -0.017027       0.018419   \n",
              "DIVERTED              NaN -0.000991  0.001981    -0.001442       0.003802   \n",
              "CANCELLED             NaN -0.055043 -0.003537    -0.022230       0.037895   \n",
              "AIR_SYSTEM_DELAY      NaN -0.002214 -0.007375    -0.023674      -0.009235   \n",
              "SECURITY_DELAY        NaN  0.007925 -0.000510     0.001576      -0.007994   \n",
              "AIRLINE_DELAY         NaN  0.011262  0.006728     0.011264       0.007168   \n",
              "LATE_AIRCRAFT_DELAY   NaN  0.004839  0.008869    -0.018026       0.022274   \n",
              "WEATHER_DELAY         NaN -0.008682  0.008882    -0.006794      -0.002836   \n",
              "\n",
              "                     SCHEDULED_DEPARTURE  DEPARTURE_TIME  DEPARTURE_DELAY  \\\n",
              "YEAR                                 NaN             NaN              NaN   \n",
              "MONTH                           0.000207       -0.004085        -0.021994   \n",
              "DAY                            -0.001647       -0.002644        -0.000176   \n",
              "DAY_OF_WEEK                     0.008007        0.005607        -0.011510   \n",
              "FLIGHT_NUMBER                  -0.005485       -0.001444        -0.008665   \n",
              "SCHEDULED_DEPARTURE             1.000000        0.963791         0.110149   \n",
              "DEPARTURE_TIME                  0.963791        1.000000         0.171723   \n",
              "DEPARTURE_DELAY                 0.110149        0.171723         1.000000   \n",
              "TAXI_OUT                        0.006581        0.014002         0.058515   \n",
              "WHEELS_OFF                      0.938008        0.971971         0.162582   \n",
              "SCHEDULED_TIME                 -0.016609       -0.020851         0.027799   \n",
              "ELAPSED_TIME                   -0.017935       -0.021990         0.030805   \n",
              "AIR_TIME                       -0.015756       -0.021146         0.023495   \n",
              "DISTANCE                       -0.009572       -0.016492         0.024106   \n",
              "WHEELS_ON                       0.656098        0.675882         0.058674   \n",
              "TAXI_IN                        -0.044719       -0.040613         0.012784   \n",
              "SCHEDULED_ARRIVAL               0.706237        0.710223         0.097566   \n",
              "ARRIVAL_TIME                    0.629342        0.648265         0.049236   \n",
              "ARRIVAL_DELAY                   0.100220        0.159787         0.944672   \n",
              "DIVERTED                       -0.000752        0.001425         0.022963   \n",
              "CANCELLED                       0.011752        0.008055         0.033099   \n",
              "AIR_SYSTEM_DELAY               -0.075174       -0.043878         0.095917   \n",
              "SECURITY_DELAY                 -0.005068       -0.004682         0.011877   \n",
              "AIRLINE_DELAY                  -0.089095       -0.024131         0.621296   \n",
              "LATE_AIRCRAFT_DELAY             0.145054        0.182374         0.554802   \n",
              "WEATHER_DELAY                  -0.013470       -0.004221         0.243532   \n",
              "\n",
              "                     TAXI_OUT  WHEELS_OFF  ...  SCHEDULED_ARRIVAL  \\\n",
              "YEAR                      NaN         NaN  ...                NaN   \n",
              "MONTH               -0.013117   -0.004946  ...          -0.010121   \n",
              "DAY                 -0.002661   -0.003318  ...          -0.003688   \n",
              "DAY_OF_WEEK         -0.020639    0.004060  ...           0.007092   \n",
              "FLIGHT_NUMBER        0.050369    0.005289  ...          -0.013947   \n",
              "SCHEDULED_DEPARTURE  0.006581    0.938008  ...           0.706237   \n",
              "DEPARTURE_TIME       0.014002    0.971971  ...           0.710223   \n",
              "DEPARTURE_DELAY      0.058515    0.162582  ...           0.097566   \n",
              "TAXI_OUT             1.000000    0.039104  ...           0.024384   \n",
              "WHEELS_OFF           0.039104    1.000000  ...           0.721877   \n",
              "SCHEDULED_TIME       0.112302   -0.028289  ...           0.031963   \n",
              "ELAPSED_TIME         0.205195   -0.027133  ...           0.031246   \n",
              "AIR_TIME             0.087608   -0.029654  ...           0.029698   \n",
              "DISTANCE             0.072333   -0.027586  ...           0.027369   \n",
              "WHEELS_ON            0.032584    0.695734  ...           0.870077   \n",
              "TAXI_IN              0.003221   -0.038814  ...          -0.007444   \n",
              "SCHEDULED_ARRIVAL    0.024384    0.721877  ...           1.000000   \n",
              "ARRIVAL_TIME         0.029745    0.667991  ...           0.861931   \n",
              "ARRIVAL_DELAY        0.227319    0.155773  ...           0.088824   \n",
              "DIVERTED             0.012251    0.001667  ...           0.004820   \n",
              "CANCELLED            0.005062    0.004805  ...           0.007763   \n",
              "AIR_SYSTEM_DELAY     0.361659   -0.026377  ...          -0.028763   \n",
              "SECURITY_DELAY      -0.005988   -0.006180  ...          -0.003396   \n",
              "AIRLINE_DELAY       -0.070290   -0.032810  ...          -0.073852   \n",
              "LATE_AIRCRAFT_DELAY -0.127824    0.156089  ...           0.109430   \n",
              "WEATHER_DELAY        0.063308   -0.008338  ...          -0.006694   \n",
              "\n",
              "                     ARRIVAL_TIME  ARRIVAL_DELAY  DIVERTED  CANCELLED  \\\n",
              "YEAR                          NaN            NaN       NaN        NaN   \n",
              "MONTH                   -0.009133      -0.036793 -0.000991  -0.055043   \n",
              "DAY                     -0.004310      -0.003097  0.001981  -0.003537   \n",
              "DAY_OF_WEEK              0.005641      -0.017027 -0.001442  -0.022230   \n",
              "FLIGHT_NUMBER           -0.002821       0.018419  0.003802   0.037895   \n",
              "SCHEDULED_DEPARTURE      0.629342       0.100220 -0.000752   0.011752   \n",
              "DEPARTURE_TIME           0.648265       0.159787  0.001425   0.008055   \n",
              "DEPARTURE_DELAY          0.049236       0.944672  0.022963   0.033099   \n",
              "TAXI_OUT                 0.029745       0.227319  0.012251   0.005062   \n",
              "WHEELS_OFF               0.667991       0.155773  0.001667   0.004805   \n",
              "SCHEDULED_TIME           0.020439      -0.030029  0.014012  -0.027827   \n",
              "ELAPSED_TIME             0.022579       0.029120       NaN        NaN   \n",
              "AIR_TIME                 0.019383      -0.007108       NaN        NaN   \n",
              "DISTANCE                 0.015098      -0.025444  0.012896  -0.032853   \n",
              "WHEELS_ON                0.968035       0.058880  0.006098        NaN   \n",
              "TAXI_IN                  0.002215       0.116628  0.022348        NaN   \n",
              "SCHEDULED_ARRIVAL        0.861931       0.088824  0.004820   0.007763   \n",
              "ARRIVAL_TIME             1.000000       0.049876  0.004771        NaN   \n",
              "ARRIVAL_DELAY            0.049876       1.000000       NaN        NaN   \n",
              "DIVERTED                 0.004771            NaN  1.000000  -0.006407   \n",
              "CANCELLED                     NaN            NaN -0.006407   1.000000   \n",
              "AIR_SYSTEM_DELAY         0.004523       0.247187       NaN        NaN   \n",
              "SECURITY_DELAY          -0.007462       0.009655       NaN        NaN   \n",
              "AIRLINE_DELAY           -0.061692       0.609351       NaN        NaN   \n",
              "LATE_AIRCRAFT_DELAY     -0.012209       0.522013       NaN        NaN   \n",
              "WEATHER_DELAY           -0.026043       0.264799       NaN        NaN   \n",
              "\n",
              "                     AIR_SYSTEM_DELAY  SECURITY_DELAY  AIRLINE_DELAY  \\\n",
              "YEAR                              NaN             NaN            NaN   \n",
              "MONTH                       -0.002214        0.007925       0.011262   \n",
              "DAY                         -0.007375       -0.000510       0.006728   \n",
              "DAY_OF_WEEK                 -0.023674        0.001576       0.011264   \n",
              "FLIGHT_NUMBER               -0.009235       -0.007994       0.007168   \n",
              "SCHEDULED_DEPARTURE         -0.075174       -0.005068      -0.089095   \n",
              "DEPARTURE_TIME              -0.043878       -0.004682      -0.024131   \n",
              "DEPARTURE_DELAY              0.095917        0.011877       0.621296   \n",
              "TAXI_OUT                     0.361659       -0.005988      -0.070290   \n",
              "WHEELS_OFF                  -0.026377       -0.006180      -0.032810   \n",
              "SCHEDULED_TIME               0.030445        0.007085       0.033051   \n",
              "ELAPSED_TIME                 0.151510        0.004588      -0.001619   \n",
              "AIR_TIME                     0.056492        0.006631       0.018366   \n",
              "DISTANCE                     0.015040        0.007513       0.032198   \n",
              "WHEELS_ON                    0.006796       -0.007728      -0.060747   \n",
              "TAXI_IN                      0.244565       -0.005392      -0.050092   \n",
              "SCHEDULED_ARRIVAL           -0.028763       -0.003396      -0.073852   \n",
              "ARRIVAL_TIME                 0.004523       -0.007462      -0.061692   \n",
              "ARRIVAL_DELAY                0.247187        0.009655       0.609351   \n",
              "DIVERTED                          NaN             NaN            NaN   \n",
              "CANCELLED                         NaN             NaN            NaN   \n",
              "AIR_SYSTEM_DELAY             1.000000       -0.010797      -0.120141   \n",
              "SECURITY_DELAY              -0.010797        1.000000      -0.012876   \n",
              "AIRLINE_DELAY               -0.120141       -0.012876       1.000000   \n",
              "LATE_AIRCRAFT_DELAY         -0.145789       -0.011615      -0.106010   \n",
              "WEATHER_DELAY               -0.000728       -0.004840      -0.050865   \n",
              "\n",
              "                     LATE_AIRCRAFT_DELAY  WEATHER_DELAY  \n",
              "YEAR                                 NaN            NaN  \n",
              "MONTH                           0.004839      -0.008682  \n",
              "DAY                             0.008869       0.008882  \n",
              "DAY_OF_WEEK                    -0.018026      -0.006794  \n",
              "FLIGHT_NUMBER                   0.022274      -0.002836  \n",
              "SCHEDULED_DEPARTURE             0.145054      -0.013470  \n",
              "DEPARTURE_TIME                  0.182374      -0.004221  \n",
              "DEPARTURE_DELAY                 0.554802       0.243532  \n",
              "TAXI_OUT                       -0.127824       0.063308  \n",
              "WHEELS_OFF                      0.156089      -0.008338  \n",
              "SCHEDULED_TIME                 -0.044554      -0.001624  \n",
              "ELAPSED_TIME                   -0.091822       0.006735  \n",
              "AIR_TIME                       -0.063624      -0.005410  \n",
              "DISTANCE                       -0.044569      -0.008721  \n",
              "WHEELS_ON                      -0.004738      -0.025507  \n",
              "TAXI_IN                        -0.055582      -0.001531  \n",
              "SCHEDULED_ARRIVAL               0.109430      -0.006694  \n",
              "ARRIVAL_TIME                   -0.012209      -0.026043  \n",
              "ARRIVAL_DELAY                   0.522013       0.264799  \n",
              "DIVERTED                             NaN            NaN  \n",
              "CANCELLED                            NaN            NaN  \n",
              "AIR_SYSTEM_DELAY               -0.145789      -0.000728  \n",
              "SECURITY_DELAY                 -0.011615      -0.004840  \n",
              "AIRLINE_DELAY                  -0.106010      -0.050865  \n",
              "LATE_AIRCRAFT_DELAY             1.000000      -0.021747  \n",
              "WEATHER_DELAY                  -0.021747       1.000000  \n",
              "\n",
              "[26 rows x 26 columns]"
            ],
            "text/html": [
              "\n",
              "  <div id=\"df-a7b2df98-8148-46a9-9387-44170a2d2221\">\n",
              "    <div class=\"colab-df-container\">\n",
              "      <div>\n",
              "<style scoped>\n",
              "    .dataframe tbody tr th:only-of-type {\n",
              "        vertical-align: middle;\n",
              "    }\n",
              "\n",
              "    .dataframe tbody tr th {\n",
              "        vertical-align: top;\n",
              "    }\n",
              "\n",
              "    .dataframe thead th {\n",
              "        text-align: right;\n",
              "    }\n",
              "</style>\n",
              "<table border=\"1\" class=\"dataframe\">\n",
              "  <thead>\n",
              "    <tr style=\"text-align: right;\">\n",
              "      <th></th>\n",
              "      <th>YEAR</th>\n",
              "      <th>MONTH</th>\n",
              "      <th>DAY</th>\n",
              "      <th>DAY_OF_WEEK</th>\n",
              "      <th>FLIGHT_NUMBER</th>\n",
              "      <th>SCHEDULED_DEPARTURE</th>\n",
              "      <th>DEPARTURE_TIME</th>\n",
              "      <th>DEPARTURE_DELAY</th>\n",
              "      <th>TAXI_OUT</th>\n",
              "      <th>WHEELS_OFF</th>\n",
              "      <th>...</th>\n",
              "      <th>SCHEDULED_ARRIVAL</th>\n",
              "      <th>ARRIVAL_TIME</th>\n",
              "      <th>ARRIVAL_DELAY</th>\n",
              "      <th>DIVERTED</th>\n",
              "      <th>CANCELLED</th>\n",
              "      <th>AIR_SYSTEM_DELAY</th>\n",
              "      <th>SECURITY_DELAY</th>\n",
              "      <th>AIRLINE_DELAY</th>\n",
              "      <th>LATE_AIRCRAFT_DELAY</th>\n",
              "      <th>WEATHER_DELAY</th>\n",
              "    </tr>\n",
              "  </thead>\n",
              "  <tbody>\n",
              "    <tr>\n",
              "      <th>YEAR</th>\n",
              "      <td>NaN</td>\n",
              "      <td>NaN</td>\n",
              "      <td>NaN</td>\n",
              "      <td>NaN</td>\n",
              "      <td>NaN</td>\n",
              "      <td>NaN</td>\n",
              "      <td>NaN</td>\n",
              "      <td>NaN</td>\n",
              "      <td>NaN</td>\n",
              "      <td>NaN</td>\n",
              "      <td>...</td>\n",
              "      <td>NaN</td>\n",
              "      <td>NaN</td>\n",
              "      <td>NaN</td>\n",
              "      <td>NaN</td>\n",
              "      <td>NaN</td>\n",
              "      <td>NaN</td>\n",
              "      <td>NaN</td>\n",
              "      <td>NaN</td>\n",
              "      <td>NaN</td>\n",
              "      <td>NaN</td>\n",
              "    </tr>\n",
              "    <tr>\n",
              "      <th>MONTH</th>\n",
              "      <td>NaN</td>\n",
              "      <td>1.000000</td>\n",
              "      <td>0.008874</td>\n",
              "      <td>-0.007847</td>\n",
              "      <td>-0.020746</td>\n",
              "      <td>0.000207</td>\n",
              "      <td>-0.004085</td>\n",
              "      <td>-0.021994</td>\n",
              "      <td>-0.013117</td>\n",
              "      <td>-0.004946</td>\n",
              "      <td>...</td>\n",
              "      <td>-0.010121</td>\n",
              "      <td>-0.009133</td>\n",
              "      <td>-0.036793</td>\n",
              "      <td>-0.000991</td>\n",
              "      <td>-0.055043</td>\n",
              "      <td>-0.002214</td>\n",
              "      <td>0.007925</td>\n",
              "      <td>0.011262</td>\n",
              "      <td>0.004839</td>\n",
              "      <td>-0.008682</td>\n",
              "    </tr>\n",
              "    <tr>\n",
              "      <th>DAY</th>\n",
              "      <td>NaN</td>\n",
              "      <td>0.008874</td>\n",
              "      <td>1.000000</td>\n",
              "      <td>0.001111</td>\n",
              "      <td>0.001855</td>\n",
              "      <td>-0.001647</td>\n",
              "      <td>-0.002644</td>\n",
              "      <td>-0.000176</td>\n",
              "      <td>-0.002661</td>\n",
              "      <td>-0.003318</td>\n",
              "      <td>...</td>\n",
              "      <td>-0.003688</td>\n",
              "      <td>-0.004310</td>\n",
              "      <td>-0.003097</td>\n",
              "      <td>0.001981</td>\n",
              "      <td>-0.003537</td>\n",
              "      <td>-0.007375</td>\n",
              "      <td>-0.000510</td>\n",
              "      <td>0.006728</td>\n",
              "      <td>0.008869</td>\n",
              "      <td>0.008882</td>\n",
              "    </tr>\n",
              "    <tr>\n",
              "      <th>DAY_OF_WEEK</th>\n",
              "      <td>NaN</td>\n",
              "      <td>-0.007847</td>\n",
              "      <td>0.001111</td>\n",
              "      <td>1.000000</td>\n",
              "      <td>0.014461</td>\n",
              "      <td>0.008007</td>\n",
              "      <td>0.005607</td>\n",
              "      <td>-0.011510</td>\n",
              "      <td>-0.020639</td>\n",
              "      <td>0.004060</td>\n",
              "      <td>...</td>\n",
              "      <td>0.007092</td>\n",
              "      <td>0.005641</td>\n",
              "      <td>-0.017027</td>\n",
              "      <td>-0.001442</td>\n",
              "      <td>-0.022230</td>\n",
              "      <td>-0.023674</td>\n",
              "      <td>0.001576</td>\n",
              "      <td>0.011264</td>\n",
              "      <td>-0.018026</td>\n",
              "      <td>-0.006794</td>\n",
              "    </tr>\n",
              "    <tr>\n",
              "      <th>FLIGHT_NUMBER</th>\n",
              "      <td>NaN</td>\n",
              "      <td>-0.020746</td>\n",
              "      <td>0.001855</td>\n",
              "      <td>0.014461</td>\n",
              "      <td>1.000000</td>\n",
              "      <td>-0.005485</td>\n",
              "      <td>-0.001444</td>\n",
              "      <td>-0.008665</td>\n",
              "      <td>0.050369</td>\n",
              "      <td>0.005289</td>\n",
              "      <td>...</td>\n",
              "      <td>-0.013947</td>\n",
              "      <td>-0.002821</td>\n",
              "      <td>0.018419</td>\n",
              "      <td>0.003802</td>\n",
              "      <td>0.037895</td>\n",
              "      <td>-0.009235</td>\n",
              "      <td>-0.007994</td>\n",
              "      <td>0.007168</td>\n",
              "      <td>0.022274</td>\n",
              "      <td>-0.002836</td>\n",
              "    </tr>\n",
              "    <tr>\n",
              "      <th>SCHEDULED_DEPARTURE</th>\n",
              "      <td>NaN</td>\n",
              "      <td>0.000207</td>\n",
              "      <td>-0.001647</td>\n",
              "      <td>0.008007</td>\n",
              "      <td>-0.005485</td>\n",
              "      <td>1.000000</td>\n",
              "      <td>0.963791</td>\n",
              "      <td>0.110149</td>\n",
              "      <td>0.006581</td>\n",
              "      <td>0.938008</td>\n",
              "      <td>...</td>\n",
              "      <td>0.706237</td>\n",
              "      <td>0.629342</td>\n",
              "      <td>0.100220</td>\n",
              "      <td>-0.000752</td>\n",
              "      <td>0.011752</td>\n",
              "      <td>-0.075174</td>\n",
              "      <td>-0.005068</td>\n",
              "      <td>-0.089095</td>\n",
              "      <td>0.145054</td>\n",
              "      <td>-0.013470</td>\n",
              "    </tr>\n",
              "    <tr>\n",
              "      <th>DEPARTURE_TIME</th>\n",
              "      <td>NaN</td>\n",
              "      <td>-0.004085</td>\n",
              "      <td>-0.002644</td>\n",
              "      <td>0.005607</td>\n",
              "      <td>-0.001444</td>\n",
              "      <td>0.963791</td>\n",
              "      <td>1.000000</td>\n",
              "      <td>0.171723</td>\n",
              "      <td>0.014002</td>\n",
              "      <td>0.971971</td>\n",
              "      <td>...</td>\n",
              "      <td>0.710223</td>\n",
              "      <td>0.648265</td>\n",
              "      <td>0.159787</td>\n",
              "      <td>0.001425</td>\n",
              "      <td>0.008055</td>\n",
              "      <td>-0.043878</td>\n",
              "      <td>-0.004682</td>\n",
              "      <td>-0.024131</td>\n",
              "      <td>0.182374</td>\n",
              "      <td>-0.004221</td>\n",
              "    </tr>\n",
              "    <tr>\n",
              "      <th>DEPARTURE_DELAY</th>\n",
              "      <td>NaN</td>\n",
              "      <td>-0.021994</td>\n",
              "      <td>-0.000176</td>\n",
              "      <td>-0.011510</td>\n",
              "      <td>-0.008665</td>\n",
              "      <td>0.110149</td>\n",
              "      <td>0.171723</td>\n",
              "      <td>1.000000</td>\n",
              "      <td>0.058515</td>\n",
              "      <td>0.162582</td>\n",
              "      <td>...</td>\n",
              "      <td>0.097566</td>\n",
              "      <td>0.049236</td>\n",
              "      <td>0.944672</td>\n",
              "      <td>0.022963</td>\n",
              "      <td>0.033099</td>\n",
              "      <td>0.095917</td>\n",
              "      <td>0.011877</td>\n",
              "      <td>0.621296</td>\n",
              "      <td>0.554802</td>\n",
              "      <td>0.243532</td>\n",
              "    </tr>\n",
              "    <tr>\n",
              "      <th>TAXI_OUT</th>\n",
              "      <td>NaN</td>\n",
              "      <td>-0.013117</td>\n",
              "      <td>-0.002661</td>\n",
              "      <td>-0.020639</td>\n",
              "      <td>0.050369</td>\n",
              "      <td>0.006581</td>\n",
              "      <td>0.014002</td>\n",
              "      <td>0.058515</td>\n",
              "      <td>1.000000</td>\n",
              "      <td>0.039104</td>\n",
              "      <td>...</td>\n",
              "      <td>0.024384</td>\n",
              "      <td>0.029745</td>\n",
              "      <td>0.227319</td>\n",
              "      <td>0.012251</td>\n",
              "      <td>0.005062</td>\n",
              "      <td>0.361659</td>\n",
              "      <td>-0.005988</td>\n",
              "      <td>-0.070290</td>\n",
              "      <td>-0.127824</td>\n",
              "      <td>0.063308</td>\n",
              "    </tr>\n",
              "    <tr>\n",
              "      <th>WHEELS_OFF</th>\n",
              "      <td>NaN</td>\n",
              "      <td>-0.004946</td>\n",
              "      <td>-0.003318</td>\n",
              "      <td>0.004060</td>\n",
              "      <td>0.005289</td>\n",
              "      <td>0.938008</td>\n",
              "      <td>0.971971</td>\n",
              "      <td>0.162582</td>\n",
              "      <td>0.039104</td>\n",
              "      <td>1.000000</td>\n",
              "      <td>...</td>\n",
              "      <td>0.721877</td>\n",
              "      <td>0.667991</td>\n",
              "      <td>0.155773</td>\n",
              "      <td>0.001667</td>\n",
              "      <td>0.004805</td>\n",
              "      <td>-0.026377</td>\n",
              "      <td>-0.006180</td>\n",
              "      <td>-0.032810</td>\n",
              "      <td>0.156089</td>\n",
              "      <td>-0.008338</td>\n",
              "    </tr>\n",
              "    <tr>\n",
              "      <th>SCHEDULED_TIME</th>\n",
              "      <td>NaN</td>\n",
              "      <td>0.010784</td>\n",
              "      <td>0.003403</td>\n",
              "      <td>0.014954</td>\n",
              "      <td>-0.317394</td>\n",
              "      <td>-0.016609</td>\n",
              "      <td>-0.020851</td>\n",
              "      <td>0.027799</td>\n",
              "      <td>0.112302</td>\n",
              "      <td>-0.028289</td>\n",
              "      <td>...</td>\n",
              "      <td>0.031963</td>\n",
              "      <td>0.020439</td>\n",
              "      <td>-0.030029</td>\n",
              "      <td>0.014012</td>\n",
              "      <td>-0.027827</td>\n",
              "      <td>0.030445</td>\n",
              "      <td>0.007085</td>\n",
              "      <td>0.033051</td>\n",
              "      <td>-0.044554</td>\n",
              "      <td>-0.001624</td>\n",
              "    </tr>\n",
              "    <tr>\n",
              "      <th>ELAPSED_TIME</th>\n",
              "      <td>NaN</td>\n",
              "      <td>0.001871</td>\n",
              "      <td>0.001419</td>\n",
              "      <td>0.011510</td>\n",
              "      <td>-0.306611</td>\n",
              "      <td>-0.017935</td>\n",
              "      <td>-0.021990</td>\n",
              "      <td>0.030805</td>\n",
              "      <td>0.205195</td>\n",
              "      <td>-0.027133</td>\n",
              "      <td>...</td>\n",
              "      <td>0.031246</td>\n",
              "      <td>0.022579</td>\n",
              "      <td>0.029120</td>\n",
              "      <td>NaN</td>\n",
              "      <td>NaN</td>\n",
              "      <td>0.151510</td>\n",
              "      <td>0.004588</td>\n",
              "      <td>-0.001619</td>\n",
              "      <td>-0.091822</td>\n",
              "      <td>0.006735</td>\n",
              "    </tr>\n",
              "    <tr>\n",
              "      <th>AIR_TIME</th>\n",
              "      <td>NaN</td>\n",
              "      <td>0.003379</td>\n",
              "      <td>0.001923</td>\n",
              "      <td>0.014284</td>\n",
              "      <td>-0.319681</td>\n",
              "      <td>-0.015756</td>\n",
              "      <td>-0.021146</td>\n",
              "      <td>0.023495</td>\n",
              "      <td>0.087608</td>\n",
              "      <td>-0.029654</td>\n",
              "      <td>...</td>\n",
              "      <td>0.029698</td>\n",
              "      <td>0.019383</td>\n",
              "      <td>-0.007108</td>\n",
              "      <td>NaN</td>\n",
              "      <td>NaN</td>\n",
              "      <td>0.056492</td>\n",
              "      <td>0.006631</td>\n",
              "      <td>0.018366</td>\n",
              "      <td>-0.063624</td>\n",
              "      <td>-0.005410</td>\n",
              "    </tr>\n",
              "    <tr>\n",
              "      <th>DISTANCE</th>\n",
              "      <td>NaN</td>\n",
              "      <td>0.011437</td>\n",
              "      <td>0.003529</td>\n",
              "      <td>0.016516</td>\n",
              "      <td>-0.331280</td>\n",
              "      <td>-0.009572</td>\n",
              "      <td>-0.016492</td>\n",
              "      <td>0.024106</td>\n",
              "      <td>0.072333</td>\n",
              "      <td>-0.027586</td>\n",
              "      <td>...</td>\n",
              "      <td>0.027369</td>\n",
              "      <td>0.015098</td>\n",
              "      <td>-0.025444</td>\n",
              "      <td>0.012896</td>\n",
              "      <td>-0.032853</td>\n",
              "      <td>0.015040</td>\n",
              "      <td>0.007513</td>\n",
              "      <td>0.032198</td>\n",
              "      <td>-0.044569</td>\n",
              "      <td>-0.008721</td>\n",
              "    </tr>\n",
              "    <tr>\n",
              "      <th>WHEELS_ON</th>\n",
              "      <td>NaN</td>\n",
              "      <td>-0.008917</td>\n",
              "      <td>-0.004294</td>\n",
              "      <td>0.005642</td>\n",
              "      <td>-0.006134</td>\n",
              "      <td>0.656098</td>\n",
              "      <td>0.675882</td>\n",
              "      <td>0.058674</td>\n",
              "      <td>0.032584</td>\n",
              "      <td>0.695734</td>\n",
              "      <td>...</td>\n",
              "      <td>0.870077</td>\n",
              "      <td>0.968035</td>\n",
              "      <td>0.058880</td>\n",
              "      <td>0.006098</td>\n",
              "      <td>NaN</td>\n",
              "      <td>0.006796</td>\n",
              "      <td>-0.007728</td>\n",
              "      <td>-0.060747</td>\n",
              "      <td>-0.004738</td>\n",
              "      <td>-0.025507</td>\n",
              "    </tr>\n",
              "    <tr>\n",
              "      <th>TAXI_IN</th>\n",
              "      <td>NaN</td>\n",
              "      <td>0.002095</td>\n",
              "      <td>-0.001656</td>\n",
              "      <td>0.001111</td>\n",
              "      <td>-0.019740</td>\n",
              "      <td>-0.044719</td>\n",
              "      <td>-0.040613</td>\n",
              "      <td>0.012784</td>\n",
              "      <td>0.003221</td>\n",
              "      <td>-0.038814</td>\n",
              "      <td>...</td>\n",
              "      <td>-0.007444</td>\n",
              "      <td>0.002215</td>\n",
              "      <td>0.116628</td>\n",
              "      <td>0.022348</td>\n",
              "      <td>NaN</td>\n",
              "      <td>0.244565</td>\n",
              "      <td>-0.005392</td>\n",
              "      <td>-0.050092</td>\n",
              "      <td>-0.055582</td>\n",
              "      <td>-0.001531</td>\n",
              "    </tr>\n",
              "    <tr>\n",
              "      <th>SCHEDULED_ARRIVAL</th>\n",
              "      <td>NaN</td>\n",
              "      <td>-0.010121</td>\n",
              "      <td>-0.003688</td>\n",
              "      <td>0.007092</td>\n",
              "      <td>-0.013947</td>\n",
              "      <td>0.706237</td>\n",
              "      <td>0.710223</td>\n",
              "      <td>0.097566</td>\n",
              "      <td>0.024384</td>\n",
              "      <td>0.721877</td>\n",
              "      <td>...</td>\n",
              "      <td>1.000000</td>\n",
              "      <td>0.861931</td>\n",
              "      <td>0.088824</td>\n",
              "      <td>0.004820</td>\n",
              "      <td>0.007763</td>\n",
              "      <td>-0.028763</td>\n",
              "      <td>-0.003396</td>\n",
              "      <td>-0.073852</td>\n",
              "      <td>0.109430</td>\n",
              "      <td>-0.006694</td>\n",
              "    </tr>\n",
              "    <tr>\n",
              "      <th>ARRIVAL_TIME</th>\n",
              "      <td>NaN</td>\n",
              "      <td>-0.009133</td>\n",
              "      <td>-0.004310</td>\n",
              "      <td>0.005641</td>\n",
              "      <td>-0.002821</td>\n",
              "      <td>0.629342</td>\n",
              "      <td>0.648265</td>\n",
              "      <td>0.049236</td>\n",
              "      <td>0.029745</td>\n",
              "      <td>0.667991</td>\n",
              "      <td>...</td>\n",
              "      <td>0.861931</td>\n",
              "      <td>1.000000</td>\n",
              "      <td>0.049876</td>\n",
              "      <td>0.004771</td>\n",
              "      <td>NaN</td>\n",
              "      <td>0.004523</td>\n",
              "      <td>-0.007462</td>\n",
              "      <td>-0.061692</td>\n",
              "      <td>-0.012209</td>\n",
              "      <td>-0.026043</td>\n",
              "    </tr>\n",
              "    <tr>\n",
              "      <th>ARRIVAL_DELAY</th>\n",
              "      <td>NaN</td>\n",
              "      <td>-0.036793</td>\n",
              "      <td>-0.003097</td>\n",
              "      <td>-0.017027</td>\n",
              "      <td>0.018419</td>\n",
              "      <td>0.100220</td>\n",
              "      <td>0.159787</td>\n",
              "      <td>0.944672</td>\n",
              "      <td>0.227319</td>\n",
              "      <td>0.155773</td>\n",
              "      <td>...</td>\n",
              "      <td>0.088824</td>\n",
              "      <td>0.049876</td>\n",
              "      <td>1.000000</td>\n",
              "      <td>NaN</td>\n",
              "      <td>NaN</td>\n",
              "      <td>0.247187</td>\n",
              "      <td>0.009655</td>\n",
              "      <td>0.609351</td>\n",
              "      <td>0.522013</td>\n",
              "      <td>0.264799</td>\n",
              "    </tr>\n",
              "    <tr>\n",
              "      <th>DIVERTED</th>\n",
              "      <td>NaN</td>\n",
              "      <td>-0.000991</td>\n",
              "      <td>0.001981</td>\n",
              "      <td>-0.001442</td>\n",
              "      <td>0.003802</td>\n",
              "      <td>-0.000752</td>\n",
              "      <td>0.001425</td>\n",
              "      <td>0.022963</td>\n",
              "      <td>0.012251</td>\n",
              "      <td>0.001667</td>\n",
              "      <td>...</td>\n",
              "      <td>0.004820</td>\n",
              "      <td>0.004771</td>\n",
              "      <td>NaN</td>\n",
              "      <td>1.000000</td>\n",
              "      <td>-0.006407</td>\n",
              "      <td>NaN</td>\n",
              "      <td>NaN</td>\n",
              "      <td>NaN</td>\n",
              "      <td>NaN</td>\n",
              "      <td>NaN</td>\n",
              "    </tr>\n",
              "    <tr>\n",
              "      <th>CANCELLED</th>\n",
              "      <td>NaN</td>\n",
              "      <td>-0.055043</td>\n",
              "      <td>-0.003537</td>\n",
              "      <td>-0.022230</td>\n",
              "      <td>0.037895</td>\n",
              "      <td>0.011752</td>\n",
              "      <td>0.008055</td>\n",
              "      <td>0.033099</td>\n",
              "      <td>0.005062</td>\n",
              "      <td>0.004805</td>\n",
              "      <td>...</td>\n",
              "      <td>0.007763</td>\n",
              "      <td>NaN</td>\n",
              "      <td>NaN</td>\n",
              "      <td>-0.006407</td>\n",
              "      <td>1.000000</td>\n",
              "      <td>NaN</td>\n",
              "      <td>NaN</td>\n",
              "      <td>NaN</td>\n",
              "      <td>NaN</td>\n",
              "      <td>NaN</td>\n",
              "    </tr>\n",
              "    <tr>\n",
              "      <th>AIR_SYSTEM_DELAY</th>\n",
              "      <td>NaN</td>\n",
              "      <td>-0.002214</td>\n",
              "      <td>-0.007375</td>\n",
              "      <td>-0.023674</td>\n",
              "      <td>-0.009235</td>\n",
              "      <td>-0.075174</td>\n",
              "      <td>-0.043878</td>\n",
              "      <td>0.095917</td>\n",
              "      <td>0.361659</td>\n",
              "      <td>-0.026377</td>\n",
              "      <td>...</td>\n",
              "      <td>-0.028763</td>\n",
              "      <td>0.004523</td>\n",
              "      <td>0.247187</td>\n",
              "      <td>NaN</td>\n",
              "      <td>NaN</td>\n",
              "      <td>1.000000</td>\n",
              "      <td>-0.010797</td>\n",
              "      <td>-0.120141</td>\n",
              "      <td>-0.145789</td>\n",
              "      <td>-0.000728</td>\n",
              "    </tr>\n",
              "    <tr>\n",
              "      <th>SECURITY_DELAY</th>\n",
              "      <td>NaN</td>\n",
              "      <td>0.007925</td>\n",
              "      <td>-0.000510</td>\n",
              "      <td>0.001576</td>\n",
              "      <td>-0.007994</td>\n",
              "      <td>-0.005068</td>\n",
              "      <td>-0.004682</td>\n",
              "      <td>0.011877</td>\n",
              "      <td>-0.005988</td>\n",
              "      <td>-0.006180</td>\n",
              "      <td>...</td>\n",
              "      <td>-0.003396</td>\n",
              "      <td>-0.007462</td>\n",
              "      <td>0.009655</td>\n",
              "      <td>NaN</td>\n",
              "      <td>NaN</td>\n",
              "      <td>-0.010797</td>\n",
              "      <td>1.000000</td>\n",
              "      <td>-0.012876</td>\n",
              "      <td>-0.011615</td>\n",
              "      <td>-0.004840</td>\n",
              "    </tr>\n",
              "    <tr>\n",
              "      <th>AIRLINE_DELAY</th>\n",
              "      <td>NaN</td>\n",
              "      <td>0.011262</td>\n",
              "      <td>0.006728</td>\n",
              "      <td>0.011264</td>\n",
              "      <td>0.007168</td>\n",
              "      <td>-0.089095</td>\n",
              "      <td>-0.024131</td>\n",
              "      <td>0.621296</td>\n",
              "      <td>-0.070290</td>\n",
              "      <td>-0.032810</td>\n",
              "      <td>...</td>\n",
              "      <td>-0.073852</td>\n",
              "      <td>-0.061692</td>\n",
              "      <td>0.609351</td>\n",
              "      <td>NaN</td>\n",
              "      <td>NaN</td>\n",
              "      <td>-0.120141</td>\n",
              "      <td>-0.012876</td>\n",
              "      <td>1.000000</td>\n",
              "      <td>-0.106010</td>\n",
              "      <td>-0.050865</td>\n",
              "    </tr>\n",
              "    <tr>\n",
              "      <th>LATE_AIRCRAFT_DELAY</th>\n",
              "      <td>NaN</td>\n",
              "      <td>0.004839</td>\n",
              "      <td>0.008869</td>\n",
              "      <td>-0.018026</td>\n",
              "      <td>0.022274</td>\n",
              "      <td>0.145054</td>\n",
              "      <td>0.182374</td>\n",
              "      <td>0.554802</td>\n",
              "      <td>-0.127824</td>\n",
              "      <td>0.156089</td>\n",
              "      <td>...</td>\n",
              "      <td>0.109430</td>\n",
              "      <td>-0.012209</td>\n",
              "      <td>0.522013</td>\n",
              "      <td>NaN</td>\n",
              "      <td>NaN</td>\n",
              "      <td>-0.145789</td>\n",
              "      <td>-0.011615</td>\n",
              "      <td>-0.106010</td>\n",
              "      <td>1.000000</td>\n",
              "      <td>-0.021747</td>\n",
              "    </tr>\n",
              "    <tr>\n",
              "      <th>WEATHER_DELAY</th>\n",
              "      <td>NaN</td>\n",
              "      <td>-0.008682</td>\n",
              "      <td>0.008882</td>\n",
              "      <td>-0.006794</td>\n",
              "      <td>-0.002836</td>\n",
              "      <td>-0.013470</td>\n",
              "      <td>-0.004221</td>\n",
              "      <td>0.243532</td>\n",
              "      <td>0.063308</td>\n",
              "      <td>-0.008338</td>\n",
              "      <td>...</td>\n",
              "      <td>-0.006694</td>\n",
              "      <td>-0.026043</td>\n",
              "      <td>0.264799</td>\n",
              "      <td>NaN</td>\n",
              "      <td>NaN</td>\n",
              "      <td>-0.000728</td>\n",
              "      <td>-0.004840</td>\n",
              "      <td>-0.050865</td>\n",
              "      <td>-0.021747</td>\n",
              "      <td>1.000000</td>\n",
              "    </tr>\n",
              "  </tbody>\n",
              "</table>\n",
              "<p>26 rows × 26 columns</p>\n",
              "</div>\n",
              "      <button class=\"colab-df-convert\" onclick=\"convertToInteractive('df-a7b2df98-8148-46a9-9387-44170a2d2221')\"\n",
              "              title=\"Convert this dataframe to an interactive table.\"\n",
              "              style=\"display:none;\">\n",
              "        \n",
              "  <svg xmlns=\"http://www.w3.org/2000/svg\" height=\"24px\"viewBox=\"0 0 24 24\"\n",
              "       width=\"24px\">\n",
              "    <path d=\"M0 0h24v24H0V0z\" fill=\"none\"/>\n",
              "    <path d=\"M18.56 5.44l.94 2.06.94-2.06 2.06-.94-2.06-.94-.94-2.06-.94 2.06-2.06.94zm-11 1L8.5 8.5l.94-2.06 2.06-.94-2.06-.94L8.5 2.5l-.94 2.06-2.06.94zm10 10l.94 2.06.94-2.06 2.06-.94-2.06-.94-.94-2.06-.94 2.06-2.06.94z\"/><path d=\"M17.41 7.96l-1.37-1.37c-.4-.4-.92-.59-1.43-.59-.52 0-1.04.2-1.43.59L10.3 9.45l-7.72 7.72c-.78.78-.78 2.05 0 2.83L4 21.41c.39.39.9.59 1.41.59.51 0 1.02-.2 1.41-.59l7.78-7.78 2.81-2.81c.8-.78.8-2.07 0-2.86zM5.41 20L4 18.59l7.72-7.72 1.47 1.35L5.41 20z\"/>\n",
              "  </svg>\n",
              "      </button>\n",
              "      \n",
              "  <style>\n",
              "    .colab-df-container {\n",
              "      display:flex;\n",
              "      flex-wrap:wrap;\n",
              "      gap: 12px;\n",
              "    }\n",
              "\n",
              "    .colab-df-convert {\n",
              "      background-color: #E8F0FE;\n",
              "      border: none;\n",
              "      border-radius: 50%;\n",
              "      cursor: pointer;\n",
              "      display: none;\n",
              "      fill: #1967D2;\n",
              "      height: 32px;\n",
              "      padding: 0 0 0 0;\n",
              "      width: 32px;\n",
              "    }\n",
              "\n",
              "    .colab-df-convert:hover {\n",
              "      background-color: #E2EBFA;\n",
              "      box-shadow: 0px 1px 2px rgba(60, 64, 67, 0.3), 0px 1px 3px 1px rgba(60, 64, 67, 0.15);\n",
              "      fill: #174EA6;\n",
              "    }\n",
              "\n",
              "    [theme=dark] .colab-df-convert {\n",
              "      background-color: #3B4455;\n",
              "      fill: #D2E3FC;\n",
              "    }\n",
              "\n",
              "    [theme=dark] .colab-df-convert:hover {\n",
              "      background-color: #434B5C;\n",
              "      box-shadow: 0px 1px 3px 1px rgba(0, 0, 0, 0.15);\n",
              "      filter: drop-shadow(0px 1px 2px rgba(0, 0, 0, 0.3));\n",
              "      fill: #FFFFFF;\n",
              "    }\n",
              "  </style>\n",
              "\n",
              "      <script>\n",
              "        const buttonEl =\n",
              "          document.querySelector('#df-a7b2df98-8148-46a9-9387-44170a2d2221 button.colab-df-convert');\n",
              "        buttonEl.style.display =\n",
              "          google.colab.kernel.accessAllowed ? 'block' : 'none';\n",
              "\n",
              "        async function convertToInteractive(key) {\n",
              "          const element = document.querySelector('#df-a7b2df98-8148-46a9-9387-44170a2d2221');\n",
              "          const dataTable =\n",
              "            await google.colab.kernel.invokeFunction('convertToInteractive',\n",
              "                                                     [key], {});\n",
              "          if (!dataTable) return;\n",
              "\n",
              "          const docLinkHtml = 'Like what you see? Visit the ' +\n",
              "            '<a target=\"_blank\" href=https://colab.research.google.com/notebooks/data_table.ipynb>data table notebook</a>'\n",
              "            + ' to learn more about interactive tables.';\n",
              "          element.innerHTML = '';\n",
              "          dataTable['output_type'] = 'display_data';\n",
              "          await google.colab.output.renderOutput(dataTable, element);\n",
              "          const docLink = document.createElement('div');\n",
              "          docLink.innerHTML = docLinkHtml;\n",
              "          element.appendChild(docLink);\n",
              "        }\n",
              "      </script>\n",
              "    </div>\n",
              "  </div>\n",
              "  "
            ]
          },
          "metadata": {},
          "execution_count": 23
        }
      ]
    },
    {
      "cell_type": "code",
      "source": [
        "flights.value_counts('DIVERTED')"
      ],
      "metadata": {
        "colab": {
          "base_uri": "https://localhost:8080/"
        },
        "id": "98NMsSZm_hDa",
        "outputId": "38d891a7-0e40-43cc-ddbe-bb08d0e5fbe2"
      },
      "execution_count": 34,
      "outputs": [
        {
          "output_type": "execute_result",
          "data": {
            "text/plain": [
              "DIVERTED\n",
              "0    5803892\n",
              "1      15187\n",
              "dtype: int64"
            ]
          },
          "metadata": {},
          "execution_count": 34
        }
      ]
    },
    {
      "cell_type": "code",
      "source": [
        "flights.value_counts('CANCELLED')"
      ],
      "metadata": {
        "colab": {
          "base_uri": "https://localhost:8080/"
        },
        "id": "Ac2q-sfLWk9f",
        "outputId": "6370d8ec-c819-4fbc-ab8b-c686c947b919"
      },
      "execution_count": 33,
      "outputs": [
        {
          "output_type": "execute_result",
          "data": {
            "text/plain": [
              "CANCELLED\n",
              "0    5729195\n",
              "1      89884\n",
              "dtype: int64"
            ]
          },
          "metadata": {},
          "execution_count": 33
        }
      ]
    },
    {
      "cell_type": "code",
      "source": [
        "flights.value_counts('AIR_SYSTEM_DELAY')\n",
        "\n",
        "flights.value_counts('SECURITY_DELAY')\n",
        "\n",
        "flights.value_counts('AIRLINE_DELAY')\n",
        "\n",
        "flights.value_counts('LATE_AIRCRAFT_DELAY')\n",
        "\n",
        "flights.value_counts('WEATHER_DELAY')"
      ],
      "metadata": {
        "id": "hPj2WdXE_hGn"
      },
      "execution_count": null,
      "outputs": []
    },
    {
      "cell_type": "code",
      "source": [
        ""
      ],
      "metadata": {
        "id": "m9L7_l6gdEty"
      },
      "execution_count": null,
      "outputs": []
    },
    {
      "cell_type": "markdown",
      "source": [
        "#Reasons for cancelling"
      ],
      "metadata": {
        "id": "FZgOVJW2MqL2"
      }
    },
    {
      "cell_type": "markdown",
      "source": [
        "\n",
        "**delay resulting in cancel due to:**\n",
        "\n",
        "\n",
        "\n",
        "\n",
        "\n",
        "\n",
        "\n",
        "\n",
        "**cancel vs noncancel:**\n",
        "\n",
        "reason\n",
        "\n",
        "distance\n",
        "\n",
        "delay time (segments)\n",
        "\n",
        "time of day\n",
        "\n",
        "weekday\n",
        "\n",
        "day of month\n",
        "\n",
        "month\n",
        "\n",
        "taxi in/out?\n",
        "\n",
        "divert=cancel? ofc\n",
        "\n",
        "\n",
        "\n",
        "**gdzie divert?**\n",
        "\n",
        "\n",
        "\n",
        "\n",
        "\n",
        "liniowy czy airtime=odleglosc\n",
        "\n",
        "elapsed i air time - czo to?\n"
      ],
      "metadata": {
        "id": "ZuHrsiXHHu7a"
      }
    },
    {
      "cell_type": "code",
      "source": [
        ""
      ],
      "metadata": {
        "id": "j5IJBdkKXy9U"
      },
      "execution_count": null,
      "outputs": []
    },
    {
      "cell_type": "code",
      "source": [
        ""
      ],
      "metadata": {
        "id": "Xgdx0T2RXzFF"
      },
      "execution_count": null,
      "outputs": []
    },
    {
      "cell_type": "code",
      "source": [
        ""
      ],
      "metadata": {
        "id": "BOwXYnXnXzJ9"
      },
      "execution_count": null,
      "outputs": []
    },
    {
      "cell_type": "markdown",
      "source": [
        "# wykresy"
      ],
      "metadata": {
        "id": "uNhpkTTDeebH"
      }
    },
    {
      "cell_type": "code",
      "source": [
        "# creating new variables and renaming \n",
        "flights['DepDate'] = pd.to_datetime(flights.YEAR*10000+flights.MONTH*100+flights.DAY_OF_WEEK,format='%Y%m%d')\n",
        "\n",
        "#Status represents wether the flight was on time (0), slightly delayed (1), highly delayed (2), diverted (3), or cancelled (4)\n",
        "for dataset in flights:\n",
        "    flights.loc[flights['ARRIVAL_DELAY'] <= 15, 'Status'] = 0\n",
        "    flights.loc[flights['ARRIVAL_DELAY'] >= 15, 'Status'] = 1\n",
        "    flights.loc[flights['ARRIVAL_DELAY'] >= 60, 'Status'] = 2\n",
        "    flights.loc[flights['DIVERTED'] == 1, 'Status'] = 3\n",
        "    flights.loc[flights['CANCELLED'] == 1, 'Status'] = 4\n",
        "    \n",
        "    \n",
        "\n"
      ],
      "metadata": {
        "id": "E45qU_XXeszY"
      },
      "execution_count": 55,
      "outputs": []
    },
    {
      "cell_type": "code",
      "source": [
        "#Cancellation cause\n",
        "flights.loc[flights[\"CANCELLATION_REASON\"] ==\"A\", 'CANCELLATION_REASON'] = \"0\"\n",
        "flights.loc[flights[\"CANCELLATION_REASON\"] ==\"B\", 'CANCELLATION_REASON'] = \"1\"\n",
        "flights.loc[flights[\"CANCELLATION_REASON\"] ==\"C\", 'CANCELLATION_REASON'] = \"2\""
      ],
      "metadata": {
        "id": "1tIRDDHGfdQq"
      },
      "execution_count": 57,
      "outputs": []
    },
    {
      "cell_type": "code",
      "source": [
        "f,ax=plt.subplots(1,2,figsize=(20,8))\n",
        "flights['Status'].value_counts().plot.pie(explode=[0.05,0.05,0.05,0,0],autopct='%1.1f%%',ax=ax[0],shadow=True)\n",
        "ax[0].set_title('Status')\n",
        "ax[0].set_ylabel('')\n",
        "sns.countplot('Status',order = flights['Status'].value_counts().index, data=flights,ax=ax[1])\n",
        "ax[1].set_title('Status')\n",
        "plt.legend()\n",
        "plt.show()"
      ],
      "metadata": {
        "colab": {
          "base_uri": "https://localhost:8080/",
          "height": 602
        },
        "id": "7v4RhhVdes4o",
        "outputId": "5a032ff2-4788-4be8-d154-3924a94a4593"
      },
      "execution_count": 60,
      "outputs": [
        {
          "output_type": "stream",
          "name": "stderr",
          "text": [
            "/usr/local/lib/python3.7/dist-packages/seaborn/_decorators.py:43: FutureWarning: Pass the following variable as a keyword arg: x. From version 0.12, the only valid positional argument will be `data`, and passing other arguments without an explicit keyword will result in an error or misinterpretation.\n",
            "  FutureWarning\n",
            "No handles with labels found to put in legend.\n"
          ]
        },
        {
          "output_type": "display_data",
          "data": {
            "text/plain": [
              "<Figure size 1440x576 with 2 Axes>"
            ],
            "image/png": "[encoded data removed]"
          },
          "metadata": {
            "needs_background": "light"
          }
        }
      ]
    },
    {
      "cell_type": "code",
      "source": [
        "CancFlights = flights[(flights.Status == 4)]\n",
        "\n",
        "f,ax=plt.subplots(1,2,figsize=(20,8))\n",
        "\n",
        "ax[0].set_ylabel('')\n",
        "sns.countplot('CANCELLED', order = CancFlights['CANCELLED'].value_counts().index, data=CancFlights, ax=ax[1])\n",
        "plt.show()\n",
        "\n",
        "\n",
        "print('0 = carrier, 1 = weather, 2 = NAS')"
      ],
      "metadata": {
        "colab": {
          "base_uri": "https://localhost:8080/",
          "height": 587
        },
        "id": "Zg2ARZTUes89",
        "outputId": "d0f9f0a1-be53-4a09-9c34-9540a066978c"
      },
      "execution_count": 64,
      "outputs": [
        {
          "output_type": "stream",
          "name": "stderr",
          "text": [
            "/usr/local/lib/python3.7/dist-packages/seaborn/_decorators.py:43: FutureWarning: Pass the following variable as a keyword arg: x. From version 0.12, the only valid positional argument will be `data`, and passing other arguments without an explicit keyword will result in an error or misinterpretation.\n",
            "  FutureWarning\n"
          ]
        },
        {
          "output_type": "display_data",
          "data": {
            "text/plain": [
              "<Figure size 1440x576 with 2 Axes>"
            ],
            "image/png": "[encoded data removed]"
          },
          "metadata": {
            "needs_background": "light"
          }
        },
        {
          "output_type": "stream",
          "name": "stdout",
          "text": [
            "0 = carrier, 1 = weather, 2 = NAS\n"
          ]
        }
      ]
    },
    {
      "cell_type": "code",
      "source": [
        "CancFlights[['DepDate','CANCELLED']].groupby(['DepDate']).count().plot()\n",
        "plt.show()"
      ],
      "metadata": {
        "colab": {
          "base_uri": "https://localhost:8080/",
          "height": 299
        },
        "id": "MFvM3A_Aes_V",
        "outputId": "fdad1d00-e966-4534-e338-1d2f87b544c7"
      },
      "execution_count": 67,
      "outputs": [
        {
          "output_type": "display_data",
          "data": {
            "text/plain": [
              "<Figure size 432x288 with 1 Axes>"
            ],
            "image/png": "[encoded data removed]"
          },
          "metadata": {
            "needs_background": "light"
          }
        }
      ]
    },
    {
      "cell_type": "code",
      "source": [
        "Delayedflights = flights[(flights.Status >= 1) &(flights.Status < 3)]"
      ],
      "metadata": {
        "id": "Tt4Mi04SetBi"
      },
      "execution_count": 68,
      "outputs": []
    },
    {
      "cell_type": "code",
      "source": [
        "sns.distplot(Delayedflights['ARRIVAL_DELAY'])\n",
        "plt.show()"
      ],
      "metadata": {
        "colab": {
          "base_uri": "https://localhost:8080/",
          "height": 347
        },
        "id": "K2OHfasWetFL",
        "outputId": "94189e42-949d-49aa-820c-02a630741975"
      },
      "execution_count": 70,
      "outputs": [
        {
          "output_type": "stream",
          "name": "stderr",
          "text": [
            "/usr/local/lib/python3.7/dist-packages/seaborn/distributions.py:2619: FutureWarning: `distplot` is a deprecated function and will be removed in a future version. Please adapt your code to use either `displot` (a figure-level function with similar flexibility) or `histplot` (an axes-level function for histograms).\n",
            "  warnings.warn(msg, FutureWarning)\n"
          ]
        },
        {
          "output_type": "display_data",
          "data": {
            "text/plain": [
              "<Figure size 432x288 with 1 Axes>"
            ],
            "image/png": "[encoded data removed]"
          },
          "metadata": {
            "needs_background": "light"
          }
        }
      ]
    },
    {
      "cell_type": "code",
      "source": [
        "df2 = Delayedflights.filter(['MONTH','ARRIVAL_DELAY','WEATHER_DELAY','AIR_SYSTEM_DELAY','SECURITY_DELAY','AIRLINE_DELAY'], axis=1)\n",
        "df2 = df2.groupby('MONTH')['ARRIVAL_DELAY','WEATHER_DELAY','AIR_SYSTEM_DELAY','SECURITY_DELAY'].sum().plot()\n",
        "df2.legend(loc='upper center', bbox_to_anchor=(0.5, 1.25), ncol=3, fancybox=True, shadow=True)\n",
        "plt.show()\n",
        "\n"
      ],
      "metadata": {
        "colab": {
          "base_uri": "https://localhost:8080/",
          "height": 372
        },
        "id": "ps2Va6a-etKk",
        "outputId": "c1f72fed-0e32-4cd1-a5ff-02d54e693f8d"
      },
      "execution_count": 73,
      "outputs": [
        {
          "output_type": "stream",
          "name": "stderr",
          "text": [
            "/usr/local/lib/python3.7/dist-packages/ipykernel_launcher.py:2: FutureWarning: Indexing with multiple keys (implicitly converted to a tuple of keys) will be deprecated, use a list instead.\n",
            "  \n"
          ]
        },
        {
          "output_type": "display_data",
          "data": {
            "text/plain": [
              "<Figure size 432x288 with 1 Axes>"
            ],
            "image/png": "[encoded data removed]"
          },
          "metadata": {
            "needs_background": "light"
          }
        }
      ]
    },
    {
      "cell_type": "code",
      "source": [
        "print(flights['AIRLINE'].value_counts())\n",
        "\n"
      ],
      "metadata": {
        "colab": {
          "base_uri": "https://localhost:8080/"
        },
        "id": "9ka7VNdQetN1",
        "outputId": "909cd47e-8822-45f8-9a88-8d7280d4da1c"
      },
      "execution_count": 74,
      "outputs": [
        {
          "output_type": "stream",
          "name": "stdout",
          "text": [
            "WN    1261855\n",
            "DL     875881\n",
            "AA     725984\n",
            "OO     588353\n",
            "EV     571977\n",
            "UA     515723\n",
            "MQ     294632\n",
            "B6     267048\n",
            "US     198715\n",
            "AS     172521\n",
            "NK     117379\n",
            "F9      90836\n",
            "HA      76272\n",
            "VX      61903\n",
            "Name: AIRLINE, dtype: int64\n"
          ]
        }
      ]
    },
    {
      "cell_type": "code",
      "source": [
        "f,ax=plt.subplots(1,2,figsize=(20,8))\n",
        "sns.barplot('AIRLINE','AIRLINE_DELAY', data=Delayedflights,ax=ax[0], order=['WN', 'AA', 'MQ', 'UA','OO','DL','XE','CO',\n",
        "                                                                                'US','EV', 'NW','FL','YV', 'B6','OH','9E',\n",
        "                                                                                 'AS','F9','HA','AQ'])\n",
        "ax[0].set_title('Average Delay by Carrier')\n",
        "sns.boxplot('AIRLINE','AIRLINE_DELAY', data=Delayedflights,ax=ax[1], order=['WN', 'AA', 'MQ', 'UA','OO','DL','XE','CO',\n",
        "                                                                                'US','EV', 'NW','FL','YV', 'B6','OH','9E',\n",
        "                                                                                 'AS','F9','HA','AQ'])\n",
        "ax[1].set_title('Delay Distribution by Carrier')\n",
        "plt.close(2)\n",
        "plt.show()\n",
        "\n",
        "print(['WN: Southwest Airlines', 'AA: American Airlines', 'MQ: American Eagle Airlines', 'UA: United Airlines',\n",
        "       'OO: Skywest Airlines','DL: Delta Airlines','XE: ExpressJet','CO: Continental Airlines','US: US Airways',\n",
        "       'EV: Atlantic Southeast Airlines', 'NW: Northwest Airlines','FL: AirTran Airways','YV: Mesa Airlines', \n",
        "       'B6: JetBlue Airways','OH: Comair','9E: Pinnacle Airlines','AS: Alaska Airlines','F9: Frontier Airlines',\n",
        "       'HA: Hawaiian Airlines','AQ: Aloha Airlines'])"
      ],
      "metadata": {
        "colab": {
          "base_uri": "https://localhost:8080/",
          "height": 638
        },
        "id": "Hdu6RnKPetPZ",
        "outputId": "f26d2cdf-f63a-40bb-d5a2-6834f6f08bf7"
      },
      "execution_count": 75,
      "outputs": [
        {
          "output_type": "stream",
          "name": "stderr",
          "text": [
            "/usr/local/lib/python3.7/dist-packages/seaborn/_decorators.py:43: FutureWarning: Pass the following variables as keyword args: x, y. From version 0.12, the only valid positional argument will be `data`, and passing other arguments without an explicit keyword will result in an error or misinterpretation.\n",
            "  FutureWarning\n",
            "/usr/local/lib/python3.7/dist-packages/seaborn/_decorators.py:43: FutureWarning: Pass the following variables as keyword args: x, y. From version 0.12, the only valid positional argument will be `data`, and passing other arguments without an explicit keyword will result in an error or misinterpretation.\n",
            "  FutureWarning\n"
          ]
        },
        {
          "output_type": "display_data",
          "data": {
            "text/plain": [
              "<Figure size 1440x576 with 2 Axes>"
            ],
            "image/png": "[encoded data removed]"
          },
          "metadata": {
            "needs_background": "light"
          }
        },
        {
          "output_type": "stream",
          "name": "stdout",
          "text": [
            "['WN: Southwest Airlines', 'AA: American Airlines', 'MQ: American Eagle Airlines', 'UA: United Airlines', 'OO: Skywest Airlines', 'DL: Delta Airlines', 'XE: ExpressJet', 'CO: Continental Airlines', 'US: US Airways', 'EV: Atlantic Southeast Airlines', 'NW: Northwest Airlines', 'FL: AirTran Airways', 'YV: Mesa Airlines', 'B6: JetBlue Airways', 'OH: Comair', '9E: Pinnacle Airlines', 'AS: Alaska Airlines', 'F9: Frontier Airlines', 'HA: Hawaiian Airlines', 'AQ: Aloha Airlines']\n"
          ]
        }
      ]
    },
    {
      "cell_type": "code",
      "source": [
        ""
      ],
      "metadata": {
        "id": "TE_bf32yetRb"
      },
      "execution_count": null,
      "outputs": []
    },
    {
      "cell_type": "code",
      "source": [
        ""
      ],
      "metadata": {
        "id": "bRZJijK_etS_"
      },
      "execution_count": null,
      "outputs": []
    },
    {
      "cell_type": "code",
      "source": [
        ""
      ],
      "metadata": {
        "id": "7xhsQ0VhetUw"
      },
      "execution_count": null,
      "outputs": []
    },
    {
      "cell_type": "code",
      "source": [
        ""
      ],
      "metadata": {
        "id": "3lFzYYjretWz"
      },
      "execution_count": null,
      "outputs": []
    },
    {
      "cell_type": "code",
      "source": [
        ""
      ],
      "metadata": {
        "id": "kqREgLPDetY9"
      },
      "execution_count": null,
      "outputs": []
    },
    {
      "cell_type": "code",
      "source": [
        ""
      ],
      "metadata": {
        "id": "VzD9oDUwetbc"
      },
      "execution_count": null,
      "outputs": []
    },
    {
      "cell_type": "markdown",
      "source": [
        "# modele"
      ],
      "metadata": {
        "id": "IKhNK38AnAjo"
      }
    },
    {
      "cell_type": "code",
      "source": [
        "# podzial na zestawy\n",
        "\n",
        "\n",
        "data = flights.values\n",
        "X, y = data[:,:-1], data[:,-1]\n",
        "X_train, X_test, y_train, y_test = train_test_split(X, y, test_size=0.30, random_state=42"
      ],
      "metadata": {
        "colab": {
          "base_uri": "https://localhost:8080/",
          "height": 134
        },
        "id": "jynS9mE5nK9l",
        "outputId": "360c2071-0cd1-4228-8bbd-198f1856b68a"
      },
      "execution_count": 77,
      "outputs": [
        {
          "output_type": "error",
          "ename": "SyntaxError",
          "evalue": "ignored",
          "traceback": [
            "\u001b[0;36m  File \u001b[0;32m\"<ipython-input-77-8205252ec0d2>\"\u001b[0;36m, line \u001b[0;32m6\u001b[0m\n\u001b[0;31m    X_train, X_test, y_train, y_test = train_test_split(X, y, test_size=0.30, random_state=42\u001b[0m\n\u001b[0m                                                                                             ^\u001b[0m\n\u001b[0;31mSyntaxError\u001b[0m\u001b[0;31m:\u001b[0m unexpected EOF while parsing\n"
          ]
        }
      ]
    },
    {
      "cell_type": "code",
      "source": [
        "clf = DecisionTreeClassifier()\n",
        "clf = clf.fit(X_train,y_train)\n",
        "\n"
      ],
      "metadata": {
        "id": "zp6Km7WanLAW"
      },
      "execution_count": null,
      "outputs": []
    },
    {
      "cell_type": "code",
      "source": [
        "pred_prob = clf.predict_proba(X_test)\n",
        "auc_score = roc_auc_score(y_test, pred_prob[:,1])\n",
        "auc_score"
      ],
      "metadata": {
        "id": "Yfpf9-59nLEF"
      },
      "execution_count": null,
      "outputs": []
    },
    {
      "cell_type": "code",
      "source": [
        ""
      ],
      "metadata": {
        "id": "NmFmQHp-nLFi"
      },
      "execution_count": null,
      "outputs": []
    },
    {
      "cell_type": "code",
      "source": [
        ""
      ],
      "metadata": {
        "id": "T5cM4XLRnLJK"
      },
      "execution_count": null,
      "outputs": []
    },
    {
      "cell_type": "code",
      "source": [
        ""
      ],
      "metadata": {
        "id": "WFr99IYanLLj"
      },
      "execution_count": null,
      "outputs": []
    },
    {
      "cell_type": "code",
      "source": [
        ""
      ],
      "metadata": {
        "id": "y4zUJ_rwnLTj"
      },
      "execution_count": null,
      "outputs": []
    },
    {
      "cell_type": "code",
      "source": [
        ""
      ],
      "metadata": {
        "id": "MOgDNDRQnLW1"
      },
      "execution_count": null,
      "outputs": []
    },
    {
      "cell_type": "code",
      "source": [
        ""
      ],
      "metadata": {
        "id": "0zuCF2qcnLar"
      },
      "execution_count": null,
      "outputs": []
    },
    {
      "cell_type": "code",
      "source": [
        ""
      ],
      "metadata": {
        "id": "qnY5xfl5nLdw"
      },
      "execution_count": null,
      "outputs": []
    },
    {
      "cell_type": "code",
      "source": [
        ""
      ],
      "metadata": {
        "id": "-TfNUYyfnLgA"
      },
      "execution_count": null,
      "outputs": []
    },
    {
      "cell_type": "code",
      "source": [
        ""
      ],
      "metadata": {
        "id": "bxbqAOFYnLi5"
      },
      "execution_count": null,
      "outputs": []
    },
    {
      "cell_type": "code",
      "source": [
        ""
      ],
      "metadata": {
        "id": "w3prtbR1nLls"
      },
      "execution_count": null,
      "outputs": []
    },
    {
      "cell_type": "code",
      "source": [
        ""
      ],
      "metadata": {
        "id": "YavscD28nLo4"
      },
      "execution_count": null,
      "outputs": []
    },
    {
      "cell_type": "code",
      "source": [
        ""
      ],
      "metadata": {
        "id": "rpE52jSZnLxD"
      },
      "execution_count": null,
      "outputs": []
    },
    {
      "cell_type": "code",
      "source": [
        ""
      ],
      "metadata": {
        "id": "BH8_rw2MnL0V"
      },
      "execution_count": null,
      "outputs": []
    },
    {
      "cell_type": "code",
      "source": [
        ""
      ],
      "metadata": {
        "id": "sXwqgNPBnL8X"
      },
      "execution_count": null,
      "outputs": []
    }
  ]
}